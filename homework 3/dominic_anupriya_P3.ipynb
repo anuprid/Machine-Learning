{
 "cells": [
  {
   "cell_type": "markdown",
   "metadata": {},
   "source": [
    "# Project 3: Classification with Logistic Regression and SVM\n",
    "\n",
    "Before we start, please put your name and CUID in following format\n",
    "\n",
    ": Firstname LASTNAME, #00000000   //   e.g. Nianyi LI, #12345678"
   ]
  },
  {
   "cell_type": "markdown",
   "metadata": {},
   "source": [
    "**Your Answer:**   \n",
    "Anupriya DOMINIC, #13338590"
   ]
  },
  {
   "cell_type": "markdown",
   "metadata": {},
   "source": [
    "# General Rules of the Project Submission\n",
    "\n",
    "Python 3 and [Matplotlib](https://matplotlib.org/) will be used throughout the semseter, so it is important to be familiar with them. It is strongly suggested to go through [Stanford CS231n](http://cs231n.github.io/python-numpy-tutorial/) and [CS228](https://github.com/kuleshov/cs228-material/blob/master/tutorials/python/cs228-python-tutorial.ipynb) for more detailed Python and numpy tutorials if you haven't had used Python before. \n",
    "\n",
    "In some cells and files you will see code blocks that look like this:\n",
    "\n",
    "```python\n",
    "##############################################################################\n",
    "#                    TODO: Write the equation for a line                     #\n",
    "##############################################################################\n",
    "pass\n",
    "##############################################################################\n",
    "#                              END OF YOUR CODE                              #\n",
    "##############################################################################\n",
    "```\n",
    "\n",
    "You should replace the `pass` statement with your own code and leave the blocks intact, like this:\n",
    "\n",
    "```python\n",
    "##############################################################################\n",
    "#                    TODO: Write the equation for a line                     #\n",
    "##############################################################################\n",
    "y = m * x + b\n",
    "##############################################################################\n",
    "#                              END OF YOUR CODE                              #\n",
    "##############################################################################\n",
    "```\n",
    "\n",
    "When completing the notebook, please adhere to the following rules:\n",
    "- Do not write or modify any code outside of code blocks\n",
    "- Follow the instruction of the project description carefully\n",
    "- Run all cells before submitting. <span style=\"color:red\">**You will only get credit for code that has been run!**.</span>\n",
    "\n",
    "The last point is extremely important and bears repeating:\n",
    "\n",
    "### We will not re-run your notebook -- <span style=\"color:red\">you will only get credit for cells that have been run</span>\n",
    "\n",
    "### File name\n",
    "Your Python program should be named **yourlastname_yourfirstname_P3.ipynb**, then zip it and upload to Canvas"
   ]
  },
  {
   "cell_type": "markdown",
   "metadata": {},
   "source": [
    "# Project Description\n",
    "\n",
    "For this project we will apply both **Logistic Regression** and **SVM** to predict whether capacitors from a fabrication plant pass quality control based (QC) on two different tests. To train your system and determine its reliability you have a set of 118 examples. The plot of these examples is show below where a red x is a capacitor that failed QC and the green circles represent capacitors that passed QC.\n",
    "\n",
    "<div>\n",
    "<img src=\"https://nianyil.people.clemson.edu/CPSC_4430/P3_new.png\" width=\"500\"/>\n",
    "</div>\n"
   ]
  },
  {
   "cell_type": "markdown",
   "metadata": {},
   "source": [
    "## Data File"
   ]
  },
  {
   "cell_type": "markdown",
   "metadata": {},
   "source": [
    "Two text files with the data is available on Canvas: a training set of 85 examples and a test set of 33 examples. Both are formatted as\n",
    "- First line: **m** and **n**, tab separated\n",
    "- Each line after that has two real numbers representing the results of the two tests, followed by a *1.0* if the capacitor *passed* QC and a *0.0* if it *failed* QC—tab separated.\n",
    "\n",
    "You need to write a code to read data from the file. You **can** use packages, such as **panda**, to load the data.\n"
   ]
  },
  {
   "cell_type": "code",
   "execution_count": 1,
   "metadata": {},
   "outputs": [
    {
     "name": "stdout",
     "output_type": "stream",
     "text": [
      "(5, 85)\n"
     ]
    }
   ],
   "source": [
    "##############################################################################\n",
    "#         TODO: Write the code for reading data from file                    #\n",
    "##############################################################################\n",
    "import numpy as np\n",
    "from tabulate import tabulate\n",
    "x1, x2, y = np.loadtxt('P3train.txt', skiprows = 1, unpack = True)\n",
    "x1_test, x2_test, y_test = np.loadtxt('P3test.txt', skiprows = 1, unpack = True)\n",
    "# X = np.column_stack([np.ones(len(x1)), x1, np.power(x1, 2), x2, x1 * x2, x1 * np.power(x2, 2), np.power(x2, 2), np.power(x1, 2) * x2,np.power(x1, 2) * np.power(x2, 2)])\n",
    "# X = np.column_stack([np.ones(len(x1)), x1, np.power(x1, 2), x2, x1 * x2, x1 * np.power(x2, 2), np.power(x2, 2), np.power(x1, 2) * x2, np.power(x1, 2) * np.power(x2, 2), np.power(x1, 3), np.power(x2, 3), np.power(x1, 3) * x2, x1 * np.power(x2, 3), np.power(x1, 3) * np.power(x2, 3), np.power(x1, 2) * np.power(x2, 3), np.power(x1, 3) * np.power(x2, 2)])\n",
    "X = np.column_stack([np.ones(len(x1)), np.power(x1, 2), np.power(x2, 2), np.power(x1, 3), np.power(x2, 3)])\n",
    "X = X.T\n",
    "print(X.shape)\n",
    "##############################################################################\n",
    "#                              END OF YOUR CODE                              #\n",
    "##############################################################################"
   ]
  },
  {
   "cell_type": "markdown",
   "metadata": {},
   "source": [
    "Your assignment is to use what you have learned from the class slides and homework to create (**from scratch in Python**, not by using Logistic Regression library function!) a **Logistic Regression** and **SVM** binary classifier to predict whether each capacitor in the test set will pass QC. "
   ]
  },
  {
   "cell_type": "markdown",
   "metadata": {},
   "source": [
    "## Logistic Regression"
   ]
  },
  {
   "cell_type": "markdown",
   "metadata": {},
   "source": [
    "You are free to use any model variation and any testing or training approach we have discussed for logistic regression. In particular, since this data is not linear, I assume you will want to add new features based on power of the original two features to create a good decision boundary. $w_0 + w_1x_1 + w_2x_2$ is not going to work!\n",
    "One choice might be\n",
    "- $\\textbf{w}^T \\textbf{x} = w_0 + w_1x_1 + w_2x_2 + w_3x_3 + w_4x_4 + w_5x_5 +w_6x_6 + w_7x_7 + w_8x_8$    where the new features are created as follows:\n",
    "\n",
    "| New Features |From Original Features |\n",
    "| --- | --- |\n",
    "|$x_1$\t| $x_1$|\n",
    "|$x_2$\t| $x_1^2$|\n",
    "|$x_3$\t| $x_2$||\n",
    "|$x_4$\t| $x_1x_2$|\n",
    "|$x_5$\t| $x_1x_2^2$|\n",
    "|$x_6$\t| $x_2^2$|\n",
    "|$x_7$\t| $x_1^2x_2$|\n",
    "|$x_8$\t| $x_1^2x_2^2$|\n",
    "\n",
    "Note that it is easy to create a small Python program that reads in your  original features, uses a nested loop to create the new features and then writes them to a file:\n",
    "\n",
    "```python\n",
    "thePower = 2\n",
    "for j in range(thePower+1): \n",
    "    for i in range(thePower+1):\n",
    "        temp = (x1**i)*(x2**j)\n",
    "        if (temp != 1):\n",
    "            fout1.write(str(temp)+\"\\t\") fout1.write(str(y)+\"\\n\")\n",
    "```\n",
    "\n",
    "With a few additions to the code, you can make a program to create combinations of any powers of $x_1$ and $x_2$!"
   ]
  },
  {
   "cell_type": "code",
   "execution_count": 2,
   "metadata": {},
   "outputs": [],
   "source": [
    "##############################################################################\n",
    "#           TODO: Define the Logistic regression models                      #\n",
    "##############################################################################\n",
    "# def logistic_model(x1, x2, w):\n",
    "#     e_z = np.exp(-(compute_wTx(x1, x2, w)))\n",
    "#     y_pred = 1 / (1 + (e_z))\n",
    "#     return y_pred\n",
    "# def compute_wTx(x1, x2, w):\n",
    "#     wTx = (\n",
    "#         w[0] + \n",
    "#         w[1] * x1 + \n",
    "#         w[2] * x1**2 + \n",
    "#         w[3] * x2 + \n",
    "#         w[4] * x1 * x2 + \n",
    "#         w[5] * x1 * x2**2 + \n",
    "#         w[6] * x2**2 + \n",
    "#         w[7] * x2 * x1**2 + \n",
    "#         w[8] * (x1**2) * (x2**2)\n",
    "#     )\n",
    "#     return wTx\n",
    "\n",
    "def logistic_model(X, w):\n",
    "    e_z = np.exp(-(compute_z(X, w)))\n",
    "    y_pred = 1 / (1 + (e_z))\n",
    "    return y_pred\n",
    "def compute_z(X, w):\n",
    "    z = np.dot(X.T, w)\n",
    "    return z\n",
    "##############################################################################\n",
    "#                              END OF YOUR CODE                              #\n",
    "##############################################################################"
   ]
  },
  {
   "cell_type": "markdown",
   "metadata": {},
   "source": [
    "## Optimization using Gradient Decent"
   ]
  },
  {
   "cell_type": "markdown",
   "metadata": {},
   "source": [
    "Once you have defined the logistic regression model, you need to find the weights using the Gradient Decent algorithm. You need to implement the Vanilla Gradient Decent from scratch in Python.\n",
    "\n",
    "You need to specify the hyperparameters of GD, and plot the training loss curve (**J-curve**). The loss function should be the binary cross-entropy loss function that we introduced."
   ]
  },
  {
   "cell_type": "code",
   "execution_count": 3,
   "metadata": {},
   "outputs": [],
   "source": [
    "##############################################################################\n",
    "#           TODO: Implement the Gradient Decent Algorithm                    #\n",
    "##############################################################################\n",
    "# Define the hyperparameters:\n",
    "# Numbers of epoch (epoch_num), learning rate (lr), and the initial weights(w)\n",
    "epoch_num = 10000\n",
    "lr = 0.1\n",
    "# w = np.zeros(9)\n",
    "w = np.zeros(5)\n",
    "cost_history = []\n",
    "\n",
    "# Define the loss:\n",
    "def cross_entropy_loss(y_pred,y):\n",
    "    m = len(y)\n",
    "    J = -(1/m) * np.sum(y * np.log(y_pred) + (1 - y) * np.log(1 - y_pred))\n",
    "    cost_history.append(J)\n",
    "    return J\n",
    "\n",
    "# Calculate the gradient function:\n",
    "def gradient_func(w,X,y):\n",
    "    #y_pred = logistic_model(x1, x2, w)\n",
    "    y_pred = logistic_model(X, w)\n",
    "    J = cross_entropy_loss(y_pred,y)\n",
    "    #J.reshape(-1, 1)\n",
    "    #gradient_value = w - (lr * J * X)\n",
    "    #gradient_value = np.dot(X.T, J) / len(y)\n",
    "    error = y_pred - y\n",
    "    gradient_value = np.dot(X, error) / len(y)\n",
    "    return gradient_value\n",
    "    \n",
    "# Implement the Gradient decent algorithm using for loop\n",
    "def Vanilla_GD(epoch_num,lr,w,X,y):\n",
    "    for epoch in range(epoch_num):\n",
    "        gradient = gradient_func(w,X,y)\n",
    "        w = w - lr * gradient\n",
    "    return w\n",
    "##############################################################################\n",
    "#                              END OF YOUR CODE                              #\n",
    "##############################################################################"
   ]
  },
  {
   "cell_type": "markdown",
   "metadata": {},
   "source": [
    "Next, print out the final weights and plot the **J-curve/Loss curve** of training. "
   ]
  },
  {
   "cell_type": "code",
   "execution_count": 4,
   "metadata": {},
   "outputs": [
    {
     "name": "stdout",
     "output_type": "stream",
     "text": [
      "[ 3.12832248 -7.40112144 -5.97003966  1.79905928  2.15701417]\n"
     ]
    },
    {
     "data": {
      "image/png": "[encoded data removed]",
      "text/plain": [
       "<Figure size 640x480 with 1 Axes>"
      ]
     },
     "metadata": {},
     "output_type": "display_data"
    }
   ],
   "source": [
    "##############################################################################\n",
    "#                     TODO: Plot the J curve                                 #\n",
    "##############################################################################\n",
    "# Print out the final weights\n",
    "w = Vanilla_GD(epoch_num,lr,w,X,y)\n",
    "print(w)\n",
    "# Plot the J curve w.r.t. the iteration numbers\n",
    "import matplotlib.pyplot as plt\n",
    "plt.plot(range(epoch_num), cost_history)\n",
    "plt.xlabel('Iteration')\n",
    "plt.ylabel('Cost')\n",
    "plt.title('J-Curve / Loss Curve of Training')\n",
    "plt.show()\n",
    "##############################################################################\n",
    "#                              END OF YOUR CODE                              #\n",
    "##############################################################################"
   ]
  },
  {
   "cell_type": "markdown",
   "metadata": {},
   "source": [
    "Based on your data and plot, you should then briefly discuss how you can ensure that the model is well trained.\n",
    "\n",
    "**Your Answer:**  "
   ]
  },
  {
   "cell_type": "code",
   "execution_count": null,
   "metadata": {},
   "outputs": [],
   "source": []
  },
  {
   "cell_type": "markdown",
   "metadata": {},
   "source": [
    "## Model Evaluation"
   ]
  },
  {
   "cell_type": "markdown",
   "metadata": {},
   "source": [
    "Evaluate the performance on testing set:\n",
    "- Print out the confusion matrix\n",
    "- Calculate and print out the *accuracy*, *precision*, *recall*, and *F1* value of your model\n",
    "\n",
    "**Note that:**\n",
    "- For **undergrads** *(CPSC 4430)* the final accuracy of both algorithms on your test set should be higher than  <span style=\"color:red\">**70%**</span>\n",
    "- For **graduate-level** *(CPSC 6430)* the final accuracy of both algorithms on your test set should be higher than  <span style=\"color:red\">**85%**</span>\n"
   ]
  },
  {
   "cell_type": "code",
   "execution_count": 5,
   "metadata": {},
   "outputs": [
    {
     "name": "stdout",
     "output_type": "stream",
     "text": [
      "y_t_pred :  [0 0 1 0 0 1 1 1 0 0 1 1 1 1 1 1 0 0 0 0 1 0 0 0 0 0 0 0 0 0 1 1 1]\n",
      "y_test: [0. 0. 1. 0. 0. 0. 1. 0. 0. 0. 1. 1. 1. 1. 1. 0. 0. 1. 0. 1. 1. 1. 0. 0.\n",
      " 0. 0. 0. 1. 0. 1. 1. 1. 1.]\n",
      "Confusion Matrix: [[14  3]\n",
      " [ 5 11]]\n",
      "Accuracy: 75.76%\n",
      "Precision: 0.79\n",
      "Recall: 0.69\n",
      "F1 Score: 0.73\n"
     ]
    }
   ],
   "source": [
    "##############################################################################\n",
    "#                           TODO: Model Evaluation                           #\n",
    "##############################################################################\n",
    "def model_evaluation(y_test, y_t_pred):\n",
    "    tp = np.sum((y_test == 1) & (y_t_pred == 1))\n",
    "    tn = np.sum((y_test == 0) & (y_t_pred == 0))\n",
    "    fp = np.sum((y_test == 0) & (y_t_pred == 1))\n",
    "    fn = np.sum((y_test == 1) & (y_t_pred == 0))\n",
    "    return np.array([[tn, fp], [fn, tp]])\n",
    "\n",
    "# accuracy\n",
    "def accuracy(y_test, y_t_pred):\n",
    "    correct_predictions = np.sum(y_test == y_t_pred)\n",
    "    total_predictions = len(y_test)\n",
    "    return correct_predictions / total_predictions\n",
    "\n",
    "# precision\n",
    "def precision(y_test, y_t_pred):\n",
    "    tp = np.sum((y_test == 1) & (y_t_pred == 1))\n",
    "    fp = np.sum((y_test == 0) & (y_t_pred == 1))\n",
    "    return tp / (tp + fp)\n",
    "\n",
    "# recall\n",
    "def recall(y_test, y_t_pred):\n",
    "    tp = np.sum((y_test == 1) & (y_t_pred == 1))\n",
    "    fn = np.sum((y_test == 1) & (y_t_pred == 0))\n",
    "    return tp / (tp + fn)\n",
    "\n",
    "# F1 score\n",
    "def f1_score(y_test, y_t_pred):\n",
    "    p = precision(y_test, y_t_pred)\n",
    "    r = recall(y_test, y_t_pred)\n",
    "    return 2 * (p * r) / (p + r)\n",
    "\n",
    "# X = np.column_stack([np.ones(len(x1_test)), x1_test, np.power(x1_test, 2), x2_test, x1_test * x2_test, x1_test * np.power(x2_test, 2), np.power(x2_test, 2), np.power(x1_test, 2) * x2_test,np.power(x1_test, 2) * np.power(x2_test, 2)])\n",
    "# X = np.column_stack([np.ones(len(x1_test)), x1_test, np.power(x1_test, 2), x2_test, x1_test * x2_test, x1_test * np.power(x2_test, 2), np.power(x2_test, 2), np.power(x1_test, 2) * x2_test,np.power(x1_test, 2) * np.power(x2_test, 2), np.power(x1_test, 3), np.power(x2_test, 3), np.power(x1_test, 3) * x2_test, x1_test * np.power(x2_test, 3), np.power(x1_test, 3) * np.power(x2_test, 3), np.power(x1_test, 2) * np.power(x2_test, 3), np.power(x1_test, 3) * np.power(x2_test, 2)])\n",
    "X = np.column_stack([np.ones(len(x1_test)), np.power(x1_test, 2), np.power(x2_test, 2), np.power(x1_test, 3), np.power(x2_test, 3)])\n",
    "X = X.T\n",
    "y_t_pred = logistic_model(X, w)\n",
    "y_t_pred = (y_t_pred >= 0.5).astype(int)\n",
    "print('y_t_pred : ', y_t_pred)\n",
    "print('y_test:', y_test)\n",
    "\n",
    "confusion_matrix = model_evaluation(y_test, y_t_pred)\n",
    "print(\"Confusion Matrix:\", confusion_matrix)\n",
    "\n",
    "acc = accuracy(y_test, y_t_pred)\n",
    "print(f\"Accuracy: {acc * 100:.2f}%\")\n",
    "\n",
    "prec = precision(y_test, y_t_pred)\n",
    "print(f\"Precision: {prec:.2f}\")\n",
    "\n",
    "rec = recall(y_test, y_t_pred)\n",
    "print(f\"Recall: {rec:.2f}\")\n",
    "\n",
    "f1 = f1_score(y_test, y_t_pred)\n",
    "print(f\"F1 Score: {f1:.2f}\")\n",
    "\n",
    "##############################################################################\n",
    "#                              END OF YOUR CODE                              #\n",
    "##############################################################################"
   ]
  },
  {
   "cell_type": "markdown",
   "metadata": {},
   "source": [
    "## Support Vector Machine (SVM)"
   ]
  },
  {
   "cell_type": "markdown",
   "metadata": {},
   "source": [
    "In this part, you need to use the previous training and testing data file. \n",
    "\n",
    "You are **allowed** to use the svm functions in the **Scikit-learn** library and don’t need to implement the algorithm from scratch.\n",
    "\n",
    "- You need to try at least **three** different kernel functions of SVM, and pick the **best** model.\n",
    "- You need to print out the final weights got from your best SVM model.\n",
    "\n",
    "**Note that:**\n",
    "- For **undergrads** *(CPSC 4430)* the final accuracy of both algorithms on your test set should be higher than  <span style=\"color:red\">**70%**</span>\n",
    "- For **graduate-level** *(CPSC 6430)* the final accuracy of both algorithms on your test set should be higher than  <span style=\"color:red\">**85%**</span>"
   ]
  },
  {
   "cell_type": "code",
   "execution_count": 6,
   "metadata": {},
   "outputs": [
    {
     "name": "stdout",
     "output_type": "stream",
     "text": [
      "Best kernel: rbf\n",
      "Best accuracy: 87.88%\n",
      "Precision: 0.60\n",
      "Recall: 0.94\n",
      "F1 Score: 0.73\n",
      "The best SVM model does not have explicit weights due to its non-linear kernel.\n"
     ]
    }
   ],
   "source": [
    "##############################################################################\n",
    "#                      TODO: Classfication using SVM                         #\n",
    "##############################################################################\n",
    "# Pick the best model\n",
    "from sklearn.svm import SVC\n",
    "from sklearn.metrics import accuracy_score, precision_score, recall_score, f1_score\n",
    "X_train = np.column_stack([x1, x2])\n",
    "X_test = np.column_stack([x1_test, x2_test])\n",
    "\n",
    "best_model = None\n",
    "best_accuracy = 0\n",
    "best_kernel = \"\"\n",
    "\n",
    "kernels = ['linear', 'rbf', 'poly']\n",
    "for kernel in kernels:\n",
    "    svm_model = SVC(kernel=kernel, gamma=1.0)\n",
    "    svm_model.fit(X_train, y)\n",
    "    \n",
    "    predictions = svm_model.predict(X_test)\n",
    "    accuracy = accuracy_score(y_test, predictions)\n",
    "    \n",
    "    if accuracy > best_accuracy:\n",
    "        best_accuracy = accuracy\n",
    "        best_model = svm_model\n",
    "        best_kernel = kernel\n",
    "print(f\"Best kernel: {best_kernel}\")\n",
    "print(f\"Best accuracy: {best_accuracy * 100:.2f}%\")\n",
    "# Precision\n",
    "precision = precision_score(y_test, predictions)\n",
    "print(f\"Precision: {precision:.2f}\")\n",
    "\n",
    "# Recall\n",
    "recall = recall_score(y_test, predictions)\n",
    "print(f\"Recall: {recall:.2f}\")\n",
    "\n",
    "# F1 Score\n",
    "f1 = f1_score(y_test, predictions)\n",
    "print(f\"F1 Score: {f1:.2f}\")\n",
    "\n",
    "# Print out the final weights\n",
    "if best_kernel == 'linear':\n",
    "    print(\"Final weights (coefficients) of the best SVM model:\")\n",
    "    print(best_model.coef_)\n",
    "else:\n",
    "    print(\"The best SVM model does not have explicit weights due to its non-linear kernel.\")\n",
    "##############################################################################\n",
    "#                              END OF YOUR CODE                              #\n",
    "##############################################################################"
   ]
  },
  {
   "cell_type": "markdown",
   "metadata": {},
   "source": [
    "## Visualize Decision Boundary and Model Comparision"
   ]
  },
  {
   "cell_type": "markdown",
   "metadata": {},
   "source": [
    "You need to plot the decision boundary of Logistic Regression and SVM that you previously trained separately. "
   ]
  },
  {
   "cell_type": "code",
   "execution_count": 7,
   "metadata": {},
   "outputs": [
    {
     "ename": "ValueError",
     "evalue": "shapes (2500,9) and (5,) not aligned: 9 (dim 1) != 5 (dim 0)",
     "output_type": "error",
     "traceback": [
      "\u001b[1;31m---------------------------------------------------------------------------\u001b[0m",
      "\u001b[1;31mValueError\u001b[0m                                Traceback (most recent call last)",
      "Cell \u001b[1;32mIn[7], line 21\u001b[0m\n\u001b[0;32m     18\u001b[0m X1 \u001b[38;5;241m=\u001b[39m np\u001b[38;5;241m.\u001b[39mcolumn_stack([np\u001b[38;5;241m.\u001b[39mones(\u001b[38;5;28mlen\u001b[39m(xxf[:, \u001b[38;5;241m0\u001b[39m])), xxf[:, \u001b[38;5;241m0\u001b[39m], np\u001b[38;5;241m.\u001b[39mpower(xxf[:, \u001b[38;5;241m0\u001b[39m], \u001b[38;5;241m2\u001b[39m), xxf[:, \u001b[38;5;241m1\u001b[39m], xxf[:, \u001b[38;5;241m0\u001b[39m] \u001b[38;5;241m*\u001b[39m xxf[:, \u001b[38;5;241m1\u001b[39m], xxf[:, \u001b[38;5;241m0\u001b[39m] \u001b[38;5;241m*\u001b[39m np\u001b[38;5;241m.\u001b[39mpower(xxf[:, \u001b[38;5;241m1\u001b[39m], \u001b[38;5;241m2\u001b[39m), np\u001b[38;5;241m.\u001b[39mpower(xxf[:, \u001b[38;5;241m1\u001b[39m], \u001b[38;5;241m2\u001b[39m), np\u001b[38;5;241m.\u001b[39mpower(xxf[:, \u001b[38;5;241m0\u001b[39m], \u001b[38;5;241m2\u001b[39m) \u001b[38;5;241m*\u001b[39m xxf[:, \u001b[38;5;241m1\u001b[39m],np\u001b[38;5;241m.\u001b[39mpower(xxf[:, \u001b[38;5;241m0\u001b[39m], \u001b[38;5;241m2\u001b[39m) \u001b[38;5;241m*\u001b[39m np\u001b[38;5;241m.\u001b[39mpower(xxf[:, \u001b[38;5;241m1\u001b[39m], \u001b[38;5;241m2\u001b[39m)])\n\u001b[0;32m     19\u001b[0m X1 \u001b[38;5;241m=\u001b[39m X1\u001b[38;5;241m.\u001b[39mT\n\u001b[1;32m---> 21\u001b[0m Z2 \u001b[38;5;241m=\u001b[39m \u001b[43mlogistic_model\u001b[49m\u001b[43m(\u001b[49m\u001b[43mX1\u001b[49m\u001b[43m,\u001b[49m\u001b[43m \u001b[49m\u001b[43mw\u001b[49m\u001b[43m)\u001b[49m\n\u001b[0;32m     22\u001b[0m Z2 \u001b[38;5;241m=\u001b[39m Z2\u001b[38;5;241m.\u001b[39mreshape(xx1\u001b[38;5;241m.\u001b[39mshape)\n\u001b[0;32m     24\u001b[0m \u001b[38;5;66;03m# Plot decision boundary and data points\u001b[39;00m\n",
      "Cell \u001b[1;32mIn[2], line 23\u001b[0m, in \u001b[0;36mlogistic_model\u001b[1;34m(X, w)\u001b[0m\n\u001b[0;32m     22\u001b[0m \u001b[38;5;28;01mdef\u001b[39;00m \u001b[38;5;21mlogistic_model\u001b[39m(X, w):\n\u001b[1;32m---> 23\u001b[0m     e_z \u001b[38;5;241m=\u001b[39m np\u001b[38;5;241m.\u001b[39mexp(\u001b[38;5;241m-\u001b[39m(\u001b[43mcompute_z\u001b[49m\u001b[43m(\u001b[49m\u001b[43mX\u001b[49m\u001b[43m,\u001b[49m\u001b[43m \u001b[49m\u001b[43mw\u001b[49m\u001b[43m)\u001b[49m))\n\u001b[0;32m     24\u001b[0m     y_pred \u001b[38;5;241m=\u001b[39m \u001b[38;5;241m1\u001b[39m \u001b[38;5;241m/\u001b[39m (\u001b[38;5;241m1\u001b[39m \u001b[38;5;241m+\u001b[39m (e_z))\n\u001b[0;32m     25\u001b[0m     \u001b[38;5;28;01mreturn\u001b[39;00m y_pred\n",
      "Cell \u001b[1;32mIn[2], line 27\u001b[0m, in \u001b[0;36mcompute_z\u001b[1;34m(X, w)\u001b[0m\n\u001b[0;32m     26\u001b[0m \u001b[38;5;28;01mdef\u001b[39;00m \u001b[38;5;21mcompute_z\u001b[39m(X, w):\n\u001b[1;32m---> 27\u001b[0m     z \u001b[38;5;241m=\u001b[39m \u001b[43mnp\u001b[49m\u001b[38;5;241;43m.\u001b[39;49m\u001b[43mdot\u001b[49m\u001b[43m(\u001b[49m\u001b[43mX\u001b[49m\u001b[38;5;241;43m.\u001b[39;49m\u001b[43mT\u001b[49m\u001b[43m,\u001b[49m\u001b[43m \u001b[49m\u001b[43mw\u001b[49m\u001b[43m)\u001b[49m\n\u001b[0;32m     28\u001b[0m     \u001b[38;5;28;01mreturn\u001b[39;00m z\n",
      "\u001b[1;31mValueError\u001b[0m: shapes (2500,9) and (5,) not aligned: 9 (dim 1) != 5 (dim 0)"
     ]
    }
   ],
   "source": [
    "##############################################################################\n",
    "#                   TODO: Plot the Decision Boundary                         #\n",
    "##############################################################################\n",
    "X = X_train\n",
    "\n",
    "# Create a mesh grid over the feature space\n",
    "x1_min, x1_max = X_test[:, 0].min() - 1, X_test[:, 0].max() + 1\n",
    "x2_min, x2_max = X_test[:, 1].min() - 1, X_test[:, 1].max() + 1\n",
    "xx1, xx2 = np.meshgrid(np.linspace(x1_min, x1_max, 50), np.linspace(x2_min, x2_max, 50))\n",
    "\n",
    "# SVM predictions\n",
    "Z = best_model.predict(np.c_[xx1.ravel(), xx2.ravel()])\n",
    "Z = Z.reshape(xx1.shape)\n",
    "\n",
    "# Data for logistic model\n",
    "xxf = np.c_[xx1.ravel(), xx2.ravel()]\n",
    "\n",
    "X1 = np.column_stack([np.ones(len(xxf[:, 0])), xxf[:, 0], np.power(xxf[:, 0], 2), xxf[:, 1], xxf[:, 0] * xxf[:, 1], xxf[:, 0] * np.power(xxf[:, 1], 2), np.power(xxf[:, 1], 2), np.power(xxf[:, 0], 2) * xxf[:, 1],np.power(xxf[:, 0], 2) * np.power(xxf[:, 1], 2)])\n",
    "X1 = X1.T\n",
    "\n",
    "Z2 = logistic_model(X1, w)\n",
    "Z2 = Z2.reshape(xx1.shape)\n",
    "\n",
    "# Plot decision boundary and data points\n",
    "fig, (ax1, ax2) = plt.subplots(1, 2, figsize=(12, 5))\n",
    "ax1.contourf(xx1, xx2, Z, alpha=0.3, cmap=plt.cm.coolwarm)  # Decision boundary\n",
    "ax1.scatter(X[:, 0], X[:, 1], c=y, s=30, cmap=plt.cm.coolwarm, edgecolor='k')  # Data points\n",
    "ax1.set_xlim(-1, 1)\n",
    "ax1.set_ylim(-1.0, 1.5)\n",
    "ax1.set_title(\"SVM Decision Boundary\")\n",
    "\n",
    "ax2.contourf(xx1, xx2, Z2, alpha=0.3, cmap=plt.cm.coolwarm)  # Decision boundary\n",
    "ax2.scatter(X[:, 0], X[:, 1], c=y, s=30, cmap=plt.cm.coolwarm, edgecolor='k')  # Data points\n",
    "ax2.set_xlim(-1, 1)\n",
    "ax2.set_ylim(-1.0, 1.5)\n",
    "ax2.set_title(\"Logistic Regression Decision Boundary\")\n",
    "\n",
    "plt.show()\n",
    "\n",
    "##############################################################################\n",
    "#                              END OF YOUR CODE                              #\n",
    "##############################################################################"
   ]
  },
  {
   "cell_type": "markdown",
   "metadata": {},
   "source": [
    "Based on your data and plot, you should then briefly discuss which one has better performance and why.\n",
    "\n",
    "**Your Answer:**  "
   ]
  },
  {
   "cell_type": "code",
   "execution_count": null,
   "metadata": {},
   "outputs": [],
   "source": []
  }
 ],
 "metadata": {
  "kernelspec": {
   "display_name": "Python 3 (ipykernel)",
   "language": "python",
   "name": "python3"
  },
  "language_info": {
   "codemirror_mode": {
    "name": "ipython",
    "version": 3
   },
   "file_extension": ".py",
   "mimetype": "text/x-python",
   "name": "python",
   "nbconvert_exporter": "python",
   "pygments_lexer": "ipython3",
   "version": "3.10.7"
  }
 },
 "nbformat": 4,
 "nbformat_minor": 4
}
