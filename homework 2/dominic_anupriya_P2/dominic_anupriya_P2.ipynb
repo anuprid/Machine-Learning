{
 "cells": [
  {
   "cell_type": "markdown",
   "metadata": {},
   "source": [
    "# Project 2: Choosing a Model for Predicting on Unseen Data\n",
    "\n",
    "Before we start, please put your name and CUID in following format\n",
    "\n",
    ": Firstname LASTNAME, #00000000   //   e.g. Nianyi LI, #12345678"
   ]
  },
  {
   "cell_type": "markdown",
   "metadata": {},
   "source": [
    "**Your Answer:**   \n",
    "Anupriya DOMINIC, #13338590"
   ]
  },
  {
   "cell_type": "markdown",
   "metadata": {},
   "source": [
    "# General Rules of the Project Submission\n",
    "\n",
    "Python 3 and [Matplotlib](https://matplotlib.org/) will be used throughout the semseter, so it is important to be familiar with them. It is strongly suggested to go through [Stanford CS231n](http://cs231n.github.io/python-numpy-tutorial/) and [CS228](https://github.com/kuleshov/cs228-material/blob/master/tutorials/python/cs228-python-tutorial.ipynb) for more detailed Python and numpy tutorials if you haven't had used Python before. \n",
    "\n",
    "In some cells and files you will see code blocks that look like this:\n",
    "\n",
    "```python\n",
    "##############################################################################\n",
    "#                    TODO: Write the equation for a line                     #\n",
    "##############################################################################\n",
    "pass\n",
    "##############################################################################\n",
    "#                              END OF YOUR CODE                              #\n",
    "##############################################################################\n",
    "```\n",
    "\n",
    "You should replace the `pass` statement with your own code and leave the blocks intact, like this:\n",
    "\n",
    "```python\n",
    "##############################################################################\n",
    "#                    TODO: Write the equation for a line                     #\n",
    "##############################################################################\n",
    "y = m * x + b\n",
    "##############################################################################\n",
    "#                              END OF YOUR CODE                              #\n",
    "##############################################################################\n",
    "```\n",
    "\n",
    "When completing the notebook, please adhere to the following rules:\n",
    "- Do not write or modify any code outside of code blocks\n",
    "- Follow the instruction of the project description carefully\n",
    "- Run all cells before submitting. <span style=\"color:red\">**You will only get credit for code that has been run!**.</span>\n",
    "\n",
    "The last point is extremely important and bears repeating:\n",
    "\n",
    "### We will not re-run your notebook -- <span style=\"color:red\">you will only get credit for cells that have been run</span>\n",
    "\n",
    "### File name\n",
    "Your Python program should be named **yourlastname_yourfirstname_P2.ipynb**, then zip it and upload to Canvas\n",
    "\n",
    "### Package usage\n",
    "You <span style=\"color:red\">**cannot**</span> use python machine learning package that can have the k-fold validation algorithm as embedded function, for instance, **sklearn** package."
   ]
  },
  {
   "cell_type": "markdown",
   "metadata": {},
   "source": [
    "# Project Description\n",
    "\n",
    "For Project 2 you will create a regression program and choose a model to predict the women’s Olympic 100-meter race record time for year **2024** and **2028**. We will code the year of each race as we did in lecture 2.3. \n",
    "\n",
    "![caption](https://nianyil.people.clemson.edu/CPSC_4430/P2.jpg)\n"
   ]
  },
  {
   "cell_type": "markdown",
   "metadata": {},
   "source": [
    "## Data File"
   ]
  },
  {
   "cell_type": "markdown",
   "metadata": {},
   "source": [
    "A text file with the data is available on Canvas for the years 1928 through 2008 when the Olympics were held. The first line of the text file indicating there’re **m** lines of data and a **n** number of features (in this case, one). You need to write a code to read data from the file. You **can** use packages, such as **panda**, to load the data."
   ]
  },
  {
   "cell_type": "code",
   "execution_count": 1,
   "metadata": {},
   "outputs": [],
   "source": [
    "##############################################################################\n",
    "#         TODO: Write the code for reading data from file                    #\n",
    "##############################################################################\n",
    "import numpy as np\n",
    "from tabulate import tabulate\n",
    "x, y = np.loadtxt('W100MTimes.txt', skiprows = 1, unpack = True)\n",
    "x = x.tolist()\n",
    "y = y.tolist()\n",
    "##############################################################################\n",
    "#                              END OF YOUR CODE                              #\n",
    "##############################################################################"
   ]
  },
  {
   "cell_type": "markdown",
   "metadata": {},
   "source": [
    "## Pick the Best Model"
   ]
  },
  {
   "cell_type": "markdown",
   "metadata": {},
   "source": [
    "Your project assignment is to compare four different models, linear, quadratic, cubic, fourth, and fifth. \n",
    "\n",
    "- $h_w(x) = w_0 + w_1x$\n",
    "- $h_w(x) = w_0 + w_1x + w_2x^2$\n",
    "- $h_w(x) = w_0 + w_1x + w_2x^2 + w_3x^3$\n",
    "- $h_w(x) = w_0 + w_1x + w_2x^2 + w_3x^3 + w_4x^4$\n",
    "- $h_w(x) = w_0 + w_1x + w_2x^2 + w_3x^3 + w_4x^4 + w_5x^5$\n"
   ]
  },
  {
   "cell_type": "code",
   "execution_count": 2,
   "metadata": {},
   "outputs": [],
   "source": [
    "##############################################################################\n",
    "#                 TODO: Define the regression models                         #\n",
    "##############################################################################\n",
    "def linear(x, y):\n",
    "    x = np.column_stack([np.ones(len(x)),x])\n",
    "    x = np.matrix(x)\n",
    "    idx = len(y)\n",
    "    y = np.matrix(y)\n",
    "    y = np.reshape(y, (idx, 1))\n",
    "    j_new, w_val = j(x,y)\n",
    "    return j_new, w_val\n",
    "\n",
    "def quadratic(x, y):\n",
    "    x = np.column_stack([np.ones(len(x)),x,np.power(x, 2)])\n",
    "    x = np.matrix(x)\n",
    "    idx = len(y)\n",
    "    y = np.matrix(y)\n",
    "    y = np.reshape(y, (idx, 1))\n",
    "    j_new, w_val = j(x,y)\n",
    "    return j_new, w_val\n",
    "\n",
    "def cubic(x, y):\n",
    "    x = np.column_stack([np.ones(len(x)),x,np.power(x, 2),np.power(x, 3)])\n",
    "    x = np.matrix(x)\n",
    "    idx = len(y)\n",
    "    y = np.matrix(y)\n",
    "    y = np.reshape(y, (idx, 1))\n",
    "    j_new, w_val = j(x,y)\n",
    "    return j_new, w_val\n",
    "\n",
    "def fourth(x, y):\n",
    "    x = np.column_stack([np.ones(len(x)),x,np.power(x, 2),np.power(x, 3),np.power(x, 4)])\n",
    "    x = np.matrix(x)\n",
    "    idx = len(y)\n",
    "    y = np.matrix(y)\n",
    "    y = np.reshape(y, (idx, 1))\n",
    "    j_new, w_val = j(x,y)\n",
    "    return j_new, w_val\n",
    "\n",
    "def fifth(x, y):\n",
    "    x = np.column_stack([np.ones(len(x)),x,np.power(x, 2),np.power(x, 3),np.power(x, 4),np.power(x, 5)])\n",
    "    x = np.matrix(x)\n",
    "    idx = len(y)\n",
    "    y = np.matrix(y)\n",
    "    y = np.reshape(y, (idx, 1))\n",
    "    j_new, w_val = j(x,y)\n",
    "    return j_new, w_val\n",
    "\n",
    "def w(x, y):\n",
    "    x_trans = x.transpose()\n",
    "    xtx = np.dot(x_trans,x)\n",
    "    x_inv = np.linalg.inv(xtx)\n",
    "    xty = np.dot(x_trans,y)\n",
    "    return np.dot(x_inv,xty)\n",
    "\n",
    "def j(x, y):\n",
    "    m,n = np.shape(x)\n",
    "    w_val = w(x,y)\n",
    "    xw = np.dot(x,w_val)\n",
    "    xw_y = np.subtract(xw,y)\n",
    "    xw_yT = xw_y.transpose()\n",
    "    J = np.dot(xw_yT,xw_y)\n",
    "    return J*(1/m), w_val\n",
    "##############################################################################\n",
    "#                              END OF YOUR CODE                              #\n",
    "##############################################################################"
   ]
  },
  {
   "cell_type": "markdown",
   "metadata": {},
   "source": [
    "Next, you need to use <span style=\"color:red\">**5-fold cross validation**</span> to pick out the best model for the prediction. You should present a chart of the error function $J$, similar to the one in the lecture (see below). You may need to use package like \"**tabulate**\" to print out the table.\n",
    "\n",
    "```\n",
    "                     Linear    Quadratic    Cubic    Fourth\n",
    "-----------------  --------  -----------  -------  --------\n",
    "1234                  10.25        24.25    12.25     23.25\n",
    "5                     10.25        19.25    14.25     23.25\n",
    "1235                  10.25        15.25    19.25     23.25\n",
    "4                     10.25        10.25    20.25     23.25\n",
    "1245                  10.25        24.25    12.25     23.25\n",
    "3                     10.25        19.25    14.25     23.25\n",
    "1345                  10.25        24.25    12.25     23.25\n",
    "2                     10.25        19.25    14.25     23.25\n",
    "2345                  10.25        24.25    12.25     23.25\n",
    "1                     10.25        19.25    14.25     23.25\n",
    "Mean for Training      0            0        0         0\n",
    "Mean for Testing       0            0        0         0\n",
    "```\n",
    "\n",
    "You need to **plot** your training and testing $J$ with respect to the polynomial degree, similar to the one in the lecture."
   ]
  },
  {
   "cell_type": "code",
   "execution_count": 3,
   "metadata": {},
   "outputs": [],
   "source": [
    "##############################################################################\n",
    "#                     TODO: 5-fold cross-validation                         #\n",
    "##############################################################################\n",
    "def c_linear(x,y,maxl,set_l):\n",
    "    j_l = []\n",
    "    for i in range(5):\n",
    "        start = i*set_l\n",
    "        end = (i+1)*set_l\n",
    "        if end > maxl:\n",
    "            end = maxl\n",
    "        x_test = x[start:end]\n",
    "        x_train = x[:start] + x[end:]\n",
    "        y_test = y[start:end]\n",
    "        y_train = y[:start] + y[end:]\n",
    "        train_l, w_val = linear(x_train, y_train)\n",
    "        j_l.append(train_l)\n",
    "        _j = []\n",
    "        for i in range(len(x_test)):\n",
    "            _j.append(((w_val[0] + (w_val[1] * x_test[i])) - y_test[i]) ** 2)\n",
    "        test_l = (sum(_j)/len(_j))\n",
    "        j_l.append(test_l)\n",
    "    return(j_l)\n",
    "\n",
    "def c_quadratic(x,y,maxl,set_l):\n",
    "    j_l = []\n",
    "    for i in range(5):\n",
    "        start = i*set_l\n",
    "        end = (i+1)*set_l\n",
    "        if end > maxl:\n",
    "            end = maxl\n",
    "        x_test = x[start:end]\n",
    "        x_train = x[:start] + x[end:]\n",
    "        y_test = y[start:end]\n",
    "        y_train = y[:start] + y[end:]\n",
    "        train_l, w_val = quadratic(x_train, y_train)\n",
    "        j_l.append(train_l)\n",
    "        _j = []\n",
    "        for i in range(len(x_test)):\n",
    "            _j.append(((w_val[0] + (w_val[1] * x_test[i]) + (w_val[2] * (x_test[i]) ** 2)) - y_test[i]) ** 2)\n",
    "        test_l = (sum(_j)/len(_j))\n",
    "        j_l.append(test_l)\n",
    "    return(j_l)\n",
    "\n",
    "def c_cubic(x,y,maxl,set_l):\n",
    "    j_l = []\n",
    "    for i in range(5):\n",
    "        start = i*set_l\n",
    "        end = (i+1)*set_l\n",
    "        if end > maxl:\n",
    "            end = maxl\n",
    "        x_test = x[start:end]\n",
    "        x_train = x[:start] + x[end:]\n",
    "        y_test = y[start:end]\n",
    "        y_train = y[:start] + y[end:]\n",
    "        train_l, w_val = cubic(x_train, y_train)\n",
    "        j_l.append(train_l)\n",
    "        _j = []\n",
    "        for i in range(len(x_test)):\n",
    "            _j.append(((w_val[0] + (w_val[1] * x_test[i]) + (w_val[2] * (x_test[i]) ** 2) + (w_val[3] * (x_test[i]) ** 3)) - y_test[i]) ** 2)\n",
    "        test_l = (sum(_j)/len(_j))\n",
    "        j_l.append(test_l)\n",
    "    return(j_l)\n",
    "\n",
    "def c_fourth(x,y,maxl,set_l):\n",
    "    j_l = []\n",
    "    for i in range(5):\n",
    "        start = i*set_l\n",
    "        end = (i+1)*set_l\n",
    "        if end > maxl:\n",
    "            end = maxl\n",
    "        x_test = x[start:end]\n",
    "        x_train = x[:start] + x[end:]\n",
    "        y_test = y[start:end]\n",
    "        y_train = y[:start] + y[end:]\n",
    "        train_l, w_val = fourth(x_train, y_train)\n",
    "        j_l.append(train_l)\n",
    "        _j = []\n",
    "        for i in range(len(x_test)):\n",
    "            _j.append(((w_val[0] + (w_val[1] * x_test[i]) + (w_val[2] * (x_test[i]) ** 2) + (w_val[3] * (x_test[i]) ** 3) + (w_val[4] * (x_test[i]) ** 4)) - y_test[i]) ** 2)\n",
    "        test_l = (sum(_j)/len(_j))\n",
    "        j_l.append(test_l)\n",
    "    return(j_l)\n",
    "\n",
    "\n",
    "def c_fifth(x,y,maxl,set_l):\n",
    "    j_l = []\n",
    "    for i in range(5):\n",
    "        start = i*set_l\n",
    "        end = (i+1)*set_l\n",
    "        if end > maxl:\n",
    "            end = maxl\n",
    "        x_test = x[start:end]\n",
    "        x_train = x[:start] + x[end:]\n",
    "        y_test = y[start:end]\n",
    "        y_train = y[:start] + y[end:]\n",
    "        train_4, w_val = fifth(x_train, y_train)\n",
    "        j_l.append(train_4)\n",
    "        _j = []\n",
    "        for i in range(len(x_test)):\n",
    "            _j.append(((w_val[0] + (w_val[1] * x_test[i]) + (w_val[2] * (x_test[i]) ** 2) + (w_val[3] * (x_test[i]) ** 3) + (w_val[4] * (x_test[i]) ** 4) + (w_val[5] * (x_test[i]) ** 5)) - y_test[i]) ** 2)\n",
    "        test_4 = (sum(_j)/len(_j))\n",
    "        j_l.append(test_4)\n",
    "    return(j_l)\n",
    "\n",
    "# len of data\n",
    "maxl = len(y)\n",
    "set_l = int(np.round(maxl/5))\n",
    "\n",
    "\n",
    "\n",
    "f0 = ['2345', '1', '1345', '2', '1245', '3', '1235', '4', '1234', '5', 'Mean for Training', 'Mean for Testing']\n",
    "c = c_linear(x,y,maxl,set_l)\n",
    "f1 = c\n",
    "f1 += (np.mean(c[::2]),np.mean(c[::-2]))\n",
    "c = c_quadratic(x,y,maxl,set_l)\n",
    "f2 = c\n",
    "f2 += (np.mean(c[::2]),np.mean(c[::-2]))\n",
    "c = c_cubic(x,y,maxl,set_l)\n",
    "f3 = c\n",
    "f3 += (np.mean(c[::2]),np.mean(c[::-2]))\n",
    "c = c_fourth(x,y,maxl,set_l)\n",
    "f4 = c\n",
    "f4 += (np.mean(c[::2]),np.mean(c[::-2]))\n",
    "c = c_fifth(x,y,maxl,set_l)\n",
    "f5 = c\n",
    "f5 += (np.mean(c[::2]),np.mean(c[::-2]),)\n",
    "table = zip(f0, f1, f2, f3, f4, f5)\n",
    "##############################################################################\n",
    "#                              END OF YOUR CODE                              #\n",
    "##############################################################################"
   ]
  },
  {
   "cell_type": "code",
   "execution_count": 4,
   "metadata": {},
   "outputs": [
    {
     "name": "stdout",
     "output_type": "stream",
     "text": [
      "                      linear    quadratic       cubic      fourth        fifth\n",
      "-----------------  ---------  -----------  ----------  ----------  -----------\n",
      "2345               0.0328357    0.0255338  0.0253479   0.0248284     0.0196647\n",
      "1                  0.199419     0.115478   0.305187    0.844881    162.881\n",
      "1345               0.0499416    0.0351405  0.0344135   0.0344134     0.0210399\n",
      "2                  0.042401     0.0362219  0.0341031   0.0341011     0.101601\n",
      "1245               0.0536374    0.0426519  0.041096    0.0410866     0.0279304\n",
      "3                  0.0314573    0.0073972  0.00945486  0.00953152    0.0498741\n",
      "1235               0.0460154    0.0327898  0.0326936   0.0314057     0.0239151\n",
      "4                  0.0643973    0.0516594  0.0572937   0.0854885     0.0851933\n",
      "1234               0.0383639    0.0354708  0.0349359   0.0320274     0.03099\n",
      "5                  0.176176     0.0677583  0.0351024   0.478374      0.0335638\n",
      "Mean for Training  0.0441588    0.0343173  0.0336974   0.0327523     0.024708\n",
      "Mean for Testing   0.10277      0.0557031  0.0882282   0.290475     32.6302\n"
     ]
    }
   ],
   "source": [
    "##############################################################################\n",
    "#                     TODO: Print out the table chart                       #\n",
    "##############################################################################\n",
    "print(tabulate(table, headers=['', 'linear', 'quadratic', 'cubic', 'fourth', 'fifth']))\n",
    "##############################################################################\n",
    "#                              END OF YOUR CODE                              #\n",
    "##############################################################################"
   ]
  },
  {
   "cell_type": "code",
   "execution_count": 5,
   "metadata": {},
   "outputs": [
    {
     "name": "stdout",
     "output_type": "stream",
     "text": [
      "mean train [0.04415879565458873, 0.03431734815593875, 0.03369737166732471, 0.032752286967813724, 0.024708023901688882]\n",
      "mean test [0.10277007842853011, 0.05570305662544049, 0.08822817564790772, 0.2904751612099076, 32.63015558242556]\n"
     ]
    },
    {
     "data": {
      "text/plain": [
       "Text(0, 0.5, 'Squared Error Cost Function (J)')"
      ]
     },
     "execution_count": 5,
     "metadata": {},
     "output_type": "execute_result"
    },
    {
     "data": {
      "image/png": "[encoded data removed]",
      "text/plain": [
       "<Figure size 640x480 with 1 Axes>"
      ]
     },
     "metadata": {},
     "output_type": "display_data"
    }
   ],
   "source": [
    "##############################################################################\n",
    "#                     TODO: Plot the J curve                                 #\n",
    "##############################################################################\n",
    "mean_train = [f1[10],f2[10],f3[10],f4[10],f5[10]]\n",
    "mean_test = [f1[11],f2[11],f3[11],f4[11],f5[11]]\n",
    "x_ax = [1, 2, 3, 4, 5]\n",
    "print('mean train', mean_train)\n",
    "print('mean test',mean_test)\n",
    "import matplotlib.pyplot as plt\n",
    "plt.plot(x_ax, mean_train,marker = 'o',c = 'r')\n",
    "plt.plot(x_ax, mean_test,marker = 'o',c = 'b')\n",
    "plt.xticks(np.arange(min(x_ax), max(x_ax)+1, 1.0))\n",
    "plt.legend(['mean train', 'mean test'])\n",
    "plt.xlabel(\"Polynominal Degree\")\n",
    "plt.ylabel(\"Squared Error Cost Function (J)\")\n",
    "##############################################################################\n",
    "#                              END OF YOUR CODE                              #\n",
    "##############################################################################"
   ]
  },
  {
   "cell_type": "markdown",
   "metadata": {},
   "source": [
    "Based on your data and plot, you should then briefly discuss **which model is the best** for the record time prediction.\n",
    "\n",
    "**Your Answer:**  Quadratic model is the best, because it have the minimum test loss."
   ]
  },
  {
   "cell_type": "markdown",
   "metadata": {},
   "source": [
    "Next, compute the final weights of the best model utilizing the **complete data set**"
   ]
  },
  {
   "cell_type": "code",
   "execution_count": 6,
   "metadata": {},
   "outputs": [],
   "source": [
    "##############################################################################\n",
    "#              TODO: Calculate the final regression model                    #\n",
    "##############################################################################\n",
    "train_loss, w_quad = quadratic(x, y)\n",
    "##############################################################################\n",
    "#                              END OF YOUR CODE                              #\n",
    "##############################################################################"
   ]
  },
  {
   "cell_type": "markdown",
   "metadata": {},
   "source": [
    "## Prediction Using the Best Model"
   ]
  },
  {
   "cell_type": "markdown",
   "metadata": {},
   "source": [
    "Write a Python program that takes a **year** as input, then outputs the winning women’s Olympic 100-meter **race time** for that year (round to two decimal places). You need to try and print out the results of **2024** and **2028**."
   ]
  },
  {
   "cell_type": "code",
   "execution_count": 7,
   "metadata": {},
   "outputs": [
    {
     "name": "stdout",
     "output_type": "stream",
     "text": [
      "Predicted race time for 2024 [[10.9410643]]\n",
      "Predicted race time for 2028 [[10.97609121]]\n"
     ]
    }
   ],
   "source": [
    "##############################################################################\n",
    "#         TODO: Predict the race time using the best model                   #\n",
    "##############################################################################\n",
    "year = 124\n",
    "pred = w_quad[0] + (w_quad[1] * year) + (w_quad[2] * (year) ** 2)\n",
    "print('Predicted race time for 2024', pred)\n",
    "\n",
    "year = 128\n",
    "pred = w_quad[0] + (w_quad[1] * year) + (w_quad[2] * (year) ** 2)\n",
    "print('Predicted race time for 2028', pred)\n",
    "\n",
    "##############################################################################\n",
    "#                              END OF YOUR CODE                              #\n",
    "##############################################################################"
   ]
  },
  {
   "cell_type": "markdown",
   "metadata": {},
   "source": [
    "## Prediction Error on 2024"
   ]
  },
  {
   "cell_type": "markdown",
   "metadata": {},
   "source": [
    "What is the acture of women's 100m final in 2024 Olympics?"
   ]
  },
  {
   "cell_type": "markdown",
   "metadata": {},
   "source": [
    "Your answer:"
   ]
  },
  {
   "cell_type": "code",
   "execution_count": 8,
   "metadata": {},
   "outputs": [
    {
     "name": "stdout",
     "output_type": "stream",
     "text": [
      "Actual women's 100m time for 2024 is :  10.72\n"
     ]
    }
   ],
   "source": [
    "print('Actual women\\'s 100m time for 2024 is : ', 10.72)"
   ]
  },
  {
   "cell_type": "markdown",
   "metadata": {},
   "source": [
    "What is the Prediction Error of year 2024?"
   ]
  },
  {
   "cell_type": "markdown",
   "metadata": {},
   "source": [
    "Your answer:"
   ]
  },
  {
   "cell_type": "code",
   "execution_count": 9,
   "metadata": {},
   "outputs": [
    {
     "name": "stdout",
     "output_type": "stream",
     "text": [
      "Prediction Error of year 2024 is :  0.21999999999999886\n"
     ]
    }
   ],
   "source": [
    "# Precicted - Actual time\n",
    "# 10.94 - 10.72\n",
    "print('Prediction Error of year 2024 is : ', np.subtract(10.94, 10.72))"
   ]
  },
  {
   "cell_type": "code",
   "execution_count": null,
   "metadata": {},
   "outputs": [],
   "source": []
  }
 ],
 "metadata": {
  "kernelspec": {
   "display_name": "Python 3 (ipykernel)",
   "language": "python",
   "name": "python3"
  },
  "language_info": {
   "codemirror_mode": {
    "name": "ipython",
    "version": 3
   },
   "file_extension": ".py",
   "mimetype": "text/x-python",
   "name": "python",
   "nbconvert_exporter": "python",
   "pygments_lexer": "ipython3",
   "version": "3.11.9"
  }
 },
 "nbformat": 4,
 "nbformat_minor": 4
}
