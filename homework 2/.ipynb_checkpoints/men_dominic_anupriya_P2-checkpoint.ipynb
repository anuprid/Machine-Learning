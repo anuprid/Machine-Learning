{
 "cells": [
  {
   "cell_type": "markdown",
   "metadata": {},
   "source": [
    "# Project 2: Choosing a Model for Predicting on Unseen Data\n",
    "\n",
    "Before we start, please put your name and CUID in following format\n",
    "\n",
    ": Firstname LASTNAME, #00000000   //   e.g. Nianyi LI, #12345678"
   ]
  },
  {
   "cell_type": "markdown",
   "metadata": {},
   "source": [
    "**Your Answer:**   \n",
    "Your NAME, #XXXXXXXX"
   ]
  },
  {
   "cell_type": "markdown",
   "metadata": {},
   "source": [
    "# General Rules of the Project Submission\n",
    "\n",
    "Python 3 and [Matplotlib](https://matplotlib.org/) will be used throughout the semseter, so it is important to be familiar with them. It is strongly suggested to go through [Stanford CS231n](http://cs231n.github.io/python-numpy-tutorial/) and [CS228](https://github.com/kuleshov/cs228-material/blob/master/tutorials/python/cs228-python-tutorial.ipynb) for more detailed Python and numpy tutorials if you haven't had used Python before. \n",
    "\n",
    "In some cells and files you will see code blocks that look like this:\n",
    "\n",
    "```python\n",
    "##############################################################################\n",
    "#                    TODO: Write the equation for a line                     #\n",
    "##############################################################################\n",
    "pass\n",
    "##############################################################################\n",
    "#                              END OF YOUR CODE                              #\n",
    "##############################################################################\n",
    "```\n",
    "\n",
    "You should replace the `pass` statement with your own code and leave the blocks intact, like this:\n",
    "\n",
    "```python\n",
    "##############################################################################\n",
    "#                    TODO: Write the equation for a line                     #\n",
    "##############################################################################\n",
    "y = m * x + b\n",
    "##############################################################################\n",
    "#                              END OF YOUR CODE                              #\n",
    "##############################################################################\n",
    "```\n",
    "\n",
    "When completing the notebook, please adhere to the following rules:\n",
    "- Do not write or modify any code outside of code blocks\n",
    "- Follow the instruction of the project description carefully\n",
    "- Run all cells before submitting. <span style=\"color:red\">**You will only get credit for code that has been run!**.</span>\n",
    "\n",
    "The last point is extremely important and bears repeating:\n",
    "\n",
    "### We will not re-run your notebook -- <span style=\"color:red\">you will only get credit for cells that have been run</span>\n",
    "\n",
    "### File name\n",
    "Your Python program should be named **yourlastname_yourfirstname_P2.ipynb**, then zip it and upload to Canvas\n",
    "\n",
    "### Package usage\n",
    "You <span style=\"color:red\">**cannot**</span> use python machine learning package that can have the k-fold validation algorithm as embedded function, for instance, **sklearn** package."
   ]
  },
  {
   "cell_type": "markdown",
   "metadata": {},
   "source": [
    "# Project Description\n",
    "\n",
    "For Project 2 you will create a regression program and choose a model to predict the women’s Olympic 100-meter race record time for year **2024** and **2028**. We will code the year of each race as we did in lecture 2.3. \n",
    "\n",
    "![caption](https://nianyil.people.clemson.edu/CPSC_4430/P2.jpg)\n"
   ]
  },
  {
   "cell_type": "markdown",
   "metadata": {},
   "source": [
    "## Data File"
   ]
  },
  {
   "cell_type": "markdown",
   "metadata": {},
   "source": [
    "A text file with the data is available on Canvas for the years 1928 through 2008 when the Olympics were held. The first line of the text file indicating there’re **m** lines of data and a **n** number of features (in this case, one). You need to write a code to read data from the file. You **can** use packages, such as **panda**, to load the data."
   ]
  },
  {
   "cell_type": "code",
   "execution_count": 1,
   "metadata": {},
   "outputs": [
    {
     "data": {
      "text/html": [
       "<div>\n",
       "<style scoped>\n",
       "    .dataframe tbody tr th:only-of-type {\n",
       "        vertical-align: middle;\n",
       "    }\n",
       "\n",
       "    .dataframe tbody tr th {\n",
       "        vertical-align: top;\n",
       "    }\n",
       "\n",
       "    .dataframe thead th {\n",
       "        text-align: right;\n",
       "    }\n",
       "</style>\n",
       "<table border=\"1\" class=\"dataframe\">\n",
       "  <thead>\n",
       "    <tr style=\"text-align: right;\">\n",
       "      <th></th>\n",
       "      <th>19</th>\n",
       "      <th>1</th>\n",
       "    </tr>\n",
       "  </thead>\n",
       "  <tbody>\n",
       "    <tr>\n",
       "      <th>0</th>\n",
       "      <td>28</td>\n",
       "      <td>12.20</td>\n",
       "    </tr>\n",
       "    <tr>\n",
       "      <th>1</th>\n",
       "      <td>32</td>\n",
       "      <td>11.90</td>\n",
       "    </tr>\n",
       "    <tr>\n",
       "      <th>2</th>\n",
       "      <td>36</td>\n",
       "      <td>11.50</td>\n",
       "    </tr>\n",
       "    <tr>\n",
       "      <th>3</th>\n",
       "      <td>48</td>\n",
       "      <td>11.90</td>\n",
       "    </tr>\n",
       "    <tr>\n",
       "      <th>4</th>\n",
       "      <td>52</td>\n",
       "      <td>11.50</td>\n",
       "    </tr>\n",
       "    <tr>\n",
       "      <th>5</th>\n",
       "      <td>56</td>\n",
       "      <td>11.50</td>\n",
       "    </tr>\n",
       "    <tr>\n",
       "      <th>6</th>\n",
       "      <td>60</td>\n",
       "      <td>11.00</td>\n",
       "    </tr>\n",
       "    <tr>\n",
       "      <th>7</th>\n",
       "      <td>64</td>\n",
       "      <td>11.40</td>\n",
       "    </tr>\n",
       "    <tr>\n",
       "      <th>8</th>\n",
       "      <td>68</td>\n",
       "      <td>11.00</td>\n",
       "    </tr>\n",
       "    <tr>\n",
       "      <th>9</th>\n",
       "      <td>72</td>\n",
       "      <td>11.07</td>\n",
       "    </tr>\n",
       "    <tr>\n",
       "      <th>10</th>\n",
       "      <td>76</td>\n",
       "      <td>11.08</td>\n",
       "    </tr>\n",
       "    <tr>\n",
       "      <th>11</th>\n",
       "      <td>80</td>\n",
       "      <td>11.06</td>\n",
       "    </tr>\n",
       "    <tr>\n",
       "      <th>12</th>\n",
       "      <td>84</td>\n",
       "      <td>10.97</td>\n",
       "    </tr>\n",
       "    <tr>\n",
       "      <th>13</th>\n",
       "      <td>88</td>\n",
       "      <td>10.54</td>\n",
       "    </tr>\n",
       "    <tr>\n",
       "      <th>14</th>\n",
       "      <td>92</td>\n",
       "      <td>10.82</td>\n",
       "    </tr>\n",
       "    <tr>\n",
       "      <th>15</th>\n",
       "      <td>96</td>\n",
       "      <td>10.94</td>\n",
       "    </tr>\n",
       "    <tr>\n",
       "      <th>16</th>\n",
       "      <td>100</td>\n",
       "      <td>11.12</td>\n",
       "    </tr>\n",
       "    <tr>\n",
       "      <th>17</th>\n",
       "      <td>104</td>\n",
       "      <td>10.93</td>\n",
       "    </tr>\n",
       "    <tr>\n",
       "      <th>18</th>\n",
       "      <td>108</td>\n",
       "      <td>10.78</td>\n",
       "    </tr>\n",
       "  </tbody>\n",
       "</table>\n",
       "</div>"
      ],
      "text/plain": [
       "     19      1\n",
       "0    28  12.20\n",
       "1    32  11.90\n",
       "2    36  11.50\n",
       "3    48  11.90\n",
       "4    52  11.50\n",
       "5    56  11.50\n",
       "6    60  11.00\n",
       "7    64  11.40\n",
       "8    68  11.00\n",
       "9    72  11.07\n",
       "10   76  11.08\n",
       "11   80  11.06\n",
       "12   84  10.97\n",
       "13   88  10.54\n",
       "14   92  10.82\n",
       "15   96  10.94\n",
       "16  100  11.12\n",
       "17  104  10.93\n",
       "18  108  10.78"
      ]
     },
     "execution_count": 1,
     "metadata": {},
     "output_type": "execute_result"
    }
   ],
   "source": [
    "##############################################################################\n",
    "#         TODO: Write the code for reading data from file                    #\n",
    "##############################################################################\n",
    "import pandas as pd\n",
    "from tabulate import tabulate\n",
    "df = pd.read_csv('W100MTimes.txt', delimiter= \"\\t\")\n",
    "df\n",
    "##############################################################################\n",
    "#                              END OF YOUR CODE                              #\n",
    "##############################################################################"
   ]
  },
  {
   "cell_type": "markdown",
   "metadata": {},
   "source": [
    "## Pick the Best Model"
   ]
  },
  {
   "cell_type": "markdown",
   "metadata": {},
   "source": [
    "Your project assignment is to compare four different models, linear, quadratic, cubic, fourth, and fifth. \n",
    "\n",
    "- $h_w(x) = w_0 + w_1x$\n",
    "- $h_w(x) = w_0 + w_1x + w_2x^2$\n",
    "- $h_w(x) = w_0 + w_1x + w_2x^2 + w_3x^3$\n",
    "- $h_w(x) = w_0 + w_1x + w_2x^2 + w_3x^3 + w_4x^4$\n",
    "- $h_w(x) = w_0 + w_1x + w_2x^2 + w_3x^3 + w_4x^4 + w_5x^5$\n"
   ]
  },
  {
   "cell_type": "code",
   "execution_count": 2,
   "metadata": {},
   "outputs": [],
   "source": [
    "##############################################################################\n",
    "#                 TODO: Define the regression models                         #\n",
    "##############################################################################\n",
    "import numpy as np\n",
    "def linear(x, y):\n",
    "    x = np.column_stack([np.ones(len(x)),x])\n",
    "    x = np.matrix(x)\n",
    "    idx = len(y)\n",
    "    y = np.matrix(y)\n",
    "    y = np.reshape(y, (idx, 1))\n",
    "    j_new, w_val = j(x,y)\n",
    "    return j_new, w_val\n",
    "\n",
    "def quadratic(x, y):\n",
    "    x = np.column_stack([np.ones(len(x)),x,np.power(x, 2)])\n",
    "    x = np.matrix(x)\n",
    "    idx = len(y)\n",
    "    y = np.matrix(y)\n",
    "    y = np.reshape(y, (idx, 1))\n",
    "    j_new, w_val = j(x,y)\n",
    "    return j_new, w_val\n",
    "\n",
    "def cubic(x, y):\n",
    "    x = np.column_stack([np.ones(len(x)),x,np.power(x, 2),np.power(x, 3)])\n",
    "    x = np.matrix(x)\n",
    "    idx = len(y)\n",
    "    y = np.matrix(y)\n",
    "    y = np.reshape(y, (idx, 1))\n",
    "    j_new, w_val = j(x,y)\n",
    "    return j_new, w_val\n",
    "\n",
    "def fourth(x, y):\n",
    "    x = np.column_stack([np.ones(len(x)),x,np.power(x, 2),np.power(x, 3),np.power(x, 4)])\n",
    "    x = np.matrix(x)\n",
    "    idx = len(y)\n",
    "    y = np.matrix(y)\n",
    "    y = np.reshape(y, (idx, 1))\n",
    "    j_new, w_val = j(x,y)\n",
    "    return j_new, w_val\n",
    "\n",
    "def fifth(x, y):\n",
    "    x = np.column_stack([np.ones(len(x)),x,np.power(x, 2),np.power(x, 3),np.power(x, 4),np.power(x, 5)])\n",
    "    x = np.matrix(x)\n",
    "    idx = len(y)\n",
    "    y = np.matrix(y)\n",
    "    y = np.reshape(y, (idx, 1))\n",
    "    j_new, w_val = j(x,y)\n",
    "    return j_new, w_val\n",
    "\n",
    "def w(x, y):\n",
    "    x_trans = x.transpose()\n",
    "    xtx = np.dot(x_trans,x)\n",
    "    x_inv = np.linalg.inv(xtx)\n",
    "    xty = np.dot(x_trans,y)\n",
    "    return np.dot(x_inv,xty)\n",
    "\n",
    "def j(x, y):\n",
    "    m,n = np.shape(x)\n",
    "    w_val = w(x,y)\n",
    "    xw = np.dot(x,w_val)\n",
    "    xw_y = np.subtract(xw,y)\n",
    "    xw_yT = xw_y.transpose()\n",
    "    J = np.dot(xw_yT,xw_y)\n",
    "    return J*(1/m), w_val\n",
    "##############################################################################\n",
    "#                              END OF YOUR CODE                              #\n",
    "##############################################################################"
   ]
  },
  {
   "cell_type": "code",
   "execution_count": 3,
   "metadata": {},
   "outputs": [],
   "source": [
    "x = [0, 4, 6, 8, 12, 20, 24, 28, 32, 36, 48, 52, 56, 60, 64, 68, 72, 76, 80, 84, 88, 92, 96, 100, 104]\n",
    "# # x = [1900,1904,1906,1908,1912,1920,1924,1928,1932,1936,1948,1952,1956,1960,1964,1968,1972,1976,1980,1984,1988,1992,1996,2000,2004]\n",
    "y = [11, 11, 11.2, 10.8, 10.8, 10.8, 10.6, 10.8, 10.38, 10.3, 10.3, 10.4, 10.5, 10.2, 10, 9.95, 10.14, 10.06, 10.25, 9.99, 9.92, 9.96, 9.84, 9.87, 9.85]"
   ]
  },
  {
   "cell_type": "markdown",
   "metadata": {},
   "source": [
    "Next, you need to use <span style=\"color:red\">**5-fold cross validation**</span> to pick out the best model for the prediction. You should present a chart of the error function $J$, similar to the one in the lecture (see below). You may need to use package like \"**tabulate**\" to print out the table.\n",
    "\n",
    "```\n",
    "                     Linear    Quadratic    Cubic    Fourth\n",
    "-----------------  --------  -----------  -------  --------\n",
    "1234                  10.25        24.25    12.25     23.25\n",
    "5                     10.25        19.25    14.25     23.25\n",
    "1235                  10.25        15.25    19.25     23.25\n",
    "4                     10.25        10.25    20.25     23.25\n",
    "1245                  10.25        24.25    12.25     23.25\n",
    "3                     10.25        19.25    14.25     23.25\n",
    "1345                  10.25        24.25    12.25     23.25\n",
    "2                     10.25        19.25    14.25     23.25\n",
    "2345                  10.25        24.25    12.25     23.25\n",
    "1                     10.25        19.25    14.25     23.25\n",
    "Mean for Training      0            0        0         0\n",
    "Mean for Testing       0            0        0         0\n",
    "```\n",
    "\n",
    "You need to **plot** your training and testing $J$ with respect to the polynomial degree, similar to the one in the lecture."
   ]
  },
  {
   "cell_type": "code",
   "execution_count": 4,
   "metadata": {},
   "outputs": [],
   "source": [
    "##############################################################################\n",
    "#                     TODO: 5-fold cross-validation                         #\n",
    "##############################################################################\n",
    "def c_linear(x,y,maxl,set_l):\n",
    "    j_l = []\n",
    "    for i in range(5):\n",
    "        start = i*set_l\n",
    "        end = (i+1)*set_l\n",
    "        if end > maxl:\n",
    "            end = maxl\n",
    "        x_test = x[start:end]\n",
    "        x_train = x[:start] + x[end:]\n",
    "        y_test = y[start:end]\n",
    "        y_train = y[:start] + y[end:]\n",
    "        train_l, w_val = linear(x_train, y_train)\n",
    "        j_l.append(train_l)\n",
    "        _j = []\n",
    "        for i in range(len(x_test)):\n",
    "            _j.append(((w_val[0] + (w_val[1] * x_test[i])) - y_test[i]) ** 2)\n",
    "        test_l = (sum(_j)/len(_j))\n",
    "        j_l.append(test_l)\n",
    "    return(j_l)\n",
    "\n",
    "def c_quadratic(x,y,maxl,set_l):\n",
    "    j_l = []\n",
    "    for i in range(5):\n",
    "        start = i*set_l\n",
    "        end = (i+1)*set_l\n",
    "        if end > maxl:\n",
    "            end = maxl\n",
    "        x_test = x[start:end]\n",
    "        x_train = x[:start] + x[end:]\n",
    "        y_test = y[start:end]\n",
    "        y_train = y[:start] + y[end:]\n",
    "        train_l, w_val = quadratic(x_train, y_train)\n",
    "        j_l.append(train_l)\n",
    "        _j = []\n",
    "        for i in range(len(x_test)):\n",
    "            _j.append(((w_val[0] + (w_val[1] * x_test[i]) + (w_val[2] * (x_test[i]) ** 2)) - y_test[i]) ** 2)\n",
    "        test_l = (sum(_j)/len(_j))\n",
    "        j_l.append(test_l)\n",
    "    return(j_l)\n",
    "\n",
    "def c_cubic(x,y,maxl,set_l):\n",
    "    j_l = []\n",
    "    for i in range(5):\n",
    "        start = i*set_l\n",
    "        end = (i+1)*set_l\n",
    "        if end > maxl:\n",
    "            end = maxl\n",
    "        x_test = x[start:end]\n",
    "        x_train = x[:start] + x[end:]\n",
    "        y_test = y[start:end]\n",
    "        y_train = y[:start] + y[end:]\n",
    "        train_l, w_val = cubic(x_train, y_train)\n",
    "        j_l.append(train_l)\n",
    "        _j = []\n",
    "        for i in range(len(x_test)):\n",
    "            _j.append(((w_val[0] + (w_val[1] * x_test[i]) + (w_val[2] * (x_test[i]) ** 2) + (w_val[3] * (x_test[i]) ** 3)) - y_test[i]) ** 2)\n",
    "        test_l = (sum(_j)/len(_j))\n",
    "        j_l.append(test_l)\n",
    "    return(j_l)\n",
    "\n",
    "def c_fourth(x,y,maxl,set_l):\n",
    "    j_l = []\n",
    "    for i in range(5):\n",
    "        start = i*set_l\n",
    "        end = (i+1)*set_l\n",
    "        if end > maxl:\n",
    "            end = maxl\n",
    "        x_test = x[start:end]\n",
    "        x_train = x[:start] + x[end:]\n",
    "        y_test = y[start:end]\n",
    "        y_train = y[:start] + y[end:]\n",
    "        train_l, w_val = fourth(x_train, y_train)\n",
    "        j_l.append(train_l)\n",
    "        _j = []\n",
    "        for i in range(len(x_test)):\n",
    "            _j.append(((w_val[0] + (w_val[1] * x_test[i]) + (w_val[2] * (x_test[i]) ** 2) + (w_val[3] * (x_test[i]) ** 3) + (w_val[4] * (x_test[i]) ** 4)) - y_test[i]) ** 2)\n",
    "        test_l = (sum(_j)/len(_j))\n",
    "        j_l.append(test_l)\n",
    "    return(j_l)\n",
    "\n",
    "\n",
    "def c_fifth(x,y,maxl,set_l):\n",
    "    j_l = []\n",
    "    for i in range(5):\n",
    "        start = i*set_l\n",
    "        end = (i+1)*set_l\n",
    "        if end > maxl:\n",
    "            end = maxl\n",
    "        x_test = x[start:end]\n",
    "        x_train = x[:start] + x[end:]\n",
    "        y_test = y[start:end]\n",
    "        y_train = y[:start] + y[end:]\n",
    "        train_4, w_val = fifth(x_train, y_train)\n",
    "        j_l.append(train_4)\n",
    "        _j = []\n",
    "        for i in range(len(x_test)):\n",
    "            _j.append(((w_val[0] + (w_val[1] * x_test[i]) + (w_val[2] * (x_test[i]) ** 2) + (w_val[3] * (x_test[i]) ** 3) + (w_val[4] * (x_test[i]) ** 4) + (w_val[5] * (x_test[i]) ** 5)) - y_test[i]) ** 2)\n",
    "        test_4 = (sum(_j)/len(_j))\n",
    "        j_l.append(test_4)\n",
    "    return(j_l)\n",
    "\n",
    "##############################################################################\n",
    "#                              END OF YOUR CODE                              #\n",
    "##############################################################################"
   ]
  },
  {
   "cell_type": "code",
   "execution_count": 5,
   "metadata": {},
   "outputs": [
    {
     "name": "stdout",
     "output_type": "stream",
     "text": [
      "                      linear    quadratic      cubic     fourth      fifth\n",
      "-----------------  ---------  -----------  ---------  ---------  ---------\n",
      "2345               0.016547     0.0154937  0.0150154  0.0146712  0.0145115\n",
      "1                  0.042781     0.0170048  0.0488518  0.341084   1.2892\n",
      "1345               0.015732     0.0136596  0.0136595  0.0136476  0.0136196\n",
      "2                  0.0325487    0.0250586  0.0249629  0.0252821  0.0276728\n",
      "1245               0.0182027    0.0142098  0.0138926  0.0126597  0.0122577\n",
      "3                  0.0209393    0.0231462  0.0233614  0.0416234  0.041052\n",
      "1235               0.0184511    0.0151596  0.0151172  0.0150966  0.0146357\n",
      "4                  0.0195847    0.0182184  0.0174794  0.0181757  0.018638\n",
      "1234               0.021806     0.01868    0.0186192  0.0186173  0.0180805\n",
      "5                  0.0114465    0.0176347  0.0382614  0.0291195  1.22766\n",
      "Mean for Training  0.0181478    0.0154405  0.0152608  0.0149385  0.014621\n",
      "Mean for Testing   0.02546      0.0202125  0.0305834  0.091057   0.520846\n"
     ]
    }
   ],
   "source": [
    "##############################################################################\n",
    "#                     TODO: Print out the table chart                       #\n",
    "##############################################################################\n",
    "# len of data\n",
    "maxl = len(y)\n",
    "set_l = int(np.round(maxl/5))\n",
    "\n",
    "\n",
    "f0 = ['2345', '1', '1345', '2', '1245', '3', '1235', '4', '1234', '5', 'Mean for Training', 'Mean for Testing']\n",
    "c = c_linear(x,y,maxl,set_l)\n",
    "f1 = c\n",
    "f1 += (np.mean(c[::2]),np.mean(c[::-2]))\n",
    "c = c_quadratic(x,y,maxl,set_l)\n",
    "f2 = c\n",
    "f2 += (np.mean(c[::2]),np.mean(c[::-2]))\n",
    "c = c_cubic(x,y,maxl,set_l)\n",
    "f3 = c\n",
    "f3 += (np.mean(c[::2]),np.mean(c[::-2]))\n",
    "c = c_fourth(x,y,maxl,set_l)\n",
    "f4 = c\n",
    "f4 += (np.mean(c[::2]),np.mean(c[::-2]))\n",
    "c = c_fifth(x,y,maxl,set_l)\n",
    "f5 = c\n",
    "f5 += (np.mean(c[::2]),np.mean(c[::-2]),)\n",
    "table = zip(f0, f1, f2, f3, f4, f5)\n",
    "print(tabulate(table, headers=['', 'linear', 'quadratic', 'cubic', 'fourth', 'fifth']))\n",
    "##############################################################################\n",
    "#                              END OF YOUR CODE                              #\n",
    "##############################################################################"
   ]
  },
  {
   "cell_type": "code",
   "execution_count": 6,
   "metadata": {},
   "outputs": [
    {
     "name": "stdout",
     "output_type": "stream",
     "text": [
      "mean train [0.018147759707231044, 0.015440543635907338, 0.01526077541698359, 0.014938484870759054, 0.014621007029557062]\n",
      "mean test [0.025460043924542063, 0.020212535585226104, 0.03058338792562736, 0.09105697553183167, 0.5208462519112806]\n"
     ]
    },
    {
     "data": {
      "text/plain": [
       "[<matplotlib.lines.Line2D at 0x117c6ea10>]"
      ]
     },
     "execution_count": 6,
     "metadata": {},
     "output_type": "execute_result"
    },
    {
     "data": {
      "image/png": "[encoded data removed]",
      "text/plain": [
       "<Figure size 640x480 with 1 Axes>"
      ]
     },
     "metadata": {},
     "output_type": "display_data"
    }
   ],
   "source": [
    "##############################################################################\n",
    "#                     TODO: Plot the J curve                                 #\n",
    "##############################################################################\n",
    "mean_train = [f1[10],f2[10],f3[10],f4[10],f5[10]]\n",
    "mean_test = [f1[11],f2[11],f3[11],f4[11],f5[11]]\n",
    "x_ax = [1, 2, 3, 4, 5]\n",
    "print('mean train', mean_train)\n",
    "print('mean test',mean_test)\n",
    "import matplotlib.pyplot as plt\n",
    "plt.scatter(x_ax, mean_train)\n",
    "plt.scatter(x_ax, mean_test)\n",
    "plt.plot(x_ax, mean_train,c = 'r')\n",
    "plt.plot(x_ax, mean_test,c = 'b')\n",
    "##############################################################################\n",
    "#                              END OF YOUR CODE                              #\n",
    "##############################################################################"
   ]
  },
  {
   "cell_type": "markdown",
   "metadata": {},
   "source": [
    "Based on your data and plot, you should then briefly discuss **which model is the best** for the record time prediction.\n",
    "\n",
    "**Your Answer:**  Quadratic model is the best, because it have the minimum test loss."
   ]
  },
  {
   "cell_type": "markdown",
   "metadata": {},
   "source": [
    "Next, compute the final weights of the best model utilizing the **complete data set**"
   ]
  },
  {
   "cell_type": "code",
   "execution_count": 7,
   "metadata": {},
   "outputs": [],
   "source": [
    "##############################################################################\n",
    "#              TODO: Calculate the final regression model                    #\n",
    "##############################################################################\n",
    "train_loss, w_quad = quadratic(x, y)\n",
    "##############################################################################\n",
    "#                              END OF YOUR CODE                              #\n",
    "##############################################################################"
   ]
  },
  {
   "cell_type": "markdown",
   "metadata": {},
   "source": [
    "## Prediction Using the Best Model"
   ]
  },
  {
   "cell_type": "markdown",
   "metadata": {},
   "source": [
    "Write a Python program that takes a **year** as input, then outputs the winning women’s Olympic 100-meter **race time** for that year (round to two decimal places). You need to try and print out the results of **2024** and **2028**."
   ]
  },
  {
   "cell_type": "code",
   "execution_count": 8,
   "metadata": {},
   "outputs": [
    {
     "name": "stdout",
     "output_type": "stream",
     "text": [
      "Predicted race time for 2024 [[9.78507667]]\n",
      "Predicted race time for 2028 [[9.77559975]]\n"
     ]
    }
   ],
   "source": [
    "##############################################################################\n",
    "#         TODO: Predict the race time using the best model                   #\n",
    "##############################################################################\n",
    "year = 124\n",
    "pred = w_quad[0] + (w_quad[1] * year) + (w_quad[2] * (year) ** 2)\n",
    "print('Predicted race time for 2024', pred)\n",
    "\n",
    "year = 128\n",
    "pred = w_quad[0] + (w_quad[1] * year) + (w_quad[2] * (year) ** 2)\n",
    "print('Predicted race time for 2028', pred)\n",
    "\n",
    "##############################################################################\n",
    "#                              END OF YOUR CODE                              #\n",
    "##############################################################################"
   ]
  },
  {
   "cell_type": "markdown",
   "metadata": {},
   "source": [
    "## Prediction Error on 2024"
   ]
  },
  {
   "cell_type": "markdown",
   "metadata": {},
   "source": [
    "What is the acture of women's 100m final in 2024 Olympics?"
   ]
  },
  {
   "cell_type": "markdown",
   "metadata": {},
   "source": [
    "Your answer:"
   ]
  },
  {
   "cell_type": "code",
   "execution_count": null,
   "metadata": {},
   "outputs": [],
   "source": []
  },
  {
   "cell_type": "markdown",
   "metadata": {},
   "source": [
    "What is the Prediction Error of year 2024?"
   ]
  },
  {
   "cell_type": "markdown",
   "metadata": {},
   "source": [
    "Your answer:"
   ]
  },
  {
   "cell_type": "code",
   "execution_count": null,
   "metadata": {},
   "outputs": [],
   "source": []
  },
  {
   "cell_type": "code",
   "execution_count": null,
   "metadata": {},
   "outputs": [],
   "source": []
  },
  {
   "cell_type": "code",
   "execution_count": null,
   "metadata": {},
   "outputs": [],
   "source": []
  }
 ],
 "metadata": {
  "kernelspec": {
   "display_name": "Python 3 (ipykernel)",
   "language": "python",
   "name": "python3"
  },
  "language_info": {
   "codemirror_mode": {
    "name": "ipython",
    "version": 3
   },
   "file_extension": ".py",
   "mimetype": "text/x-python",
   "name": "python",
   "nbconvert_exporter": "python",
   "pygments_lexer": "ipython3",
   "version": "3.11.9"
  }
 },
 "nbformat": 4,
 "nbformat_minor": 4
}
