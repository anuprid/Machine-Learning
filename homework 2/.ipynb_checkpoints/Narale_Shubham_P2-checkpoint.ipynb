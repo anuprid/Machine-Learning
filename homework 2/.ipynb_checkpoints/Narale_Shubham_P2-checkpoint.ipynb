{
 "cells": [
  {
   "cell_type": "markdown",
   "metadata": {},
   "source": [
    "# Project 2: Choosing a Model for Predicting on Unseen Data\n",
    "\n",
    "Before we start, please put your name and CUID in following format\n",
    "\n",
    ": Firstname LASTNAME, #00000000   //   e.g. Nianyi LI, #12345678"
   ]
  },
  {
   "cell_type": "markdown",
   "metadata": {},
   "source": [
    "**Your Answer:**   \n",
    "Shubham Narale, #C33915920"
   ]
  },
  {
   "cell_type": "markdown",
   "metadata": {},
   "source": [
    "# General Rules of the Project Submission\n",
    "\n",
    "Python 3 and [Matplotlib](https://matplotlib.org/) will be used throughout the semseter, so it is important to be familiar with them. It is strongly suggested to go through [Stanford CS231n](http://cs231n.github.io/python-numpy-tutorial/) and [CS228](https://github.com/kuleshov/cs228-material/blob/master/tutorials/python/cs228-python-tutorial.ipynb) for more detailed Python and numpy tutorials if you haven't had used Python before. \n",
    "\n",
    "In some cells and files you will see code blocks that look like this:\n",
    "\n",
    "```python\n",
    "##############################################################################\n",
    "#                    TODO: Write the equation for a line                     #\n",
    "##############################################################################\n",
    "pass\n",
    "##############################################################################\n",
    "#                              END OF YOUR CODE                              #\n",
    "##############################################################################\n",
    "```\n",
    "\n",
    "You should replace the `pass` statement with your own code and leave the blocks intact, like this:\n",
    "\n",
    "```python\n",
    "##############################################################################\n",
    "#                    TODO: Write the equation for a line                     #\n",
    "##############################################################################\n",
    "y = m * x + b\n",
    "##############################################################################\n",
    "#                              END OF YOUR CODE                              #\n",
    "##############################################################################\n",
    "```\n",
    "\n",
    "When completing the notebook, please adhere to the following rules:\n",
    "- Do not write or modify any code outside of code blocks\n",
    "- Follow the instruction of the project description carefully\n",
    "- Run all cells before submitting. <span style=\"color:red\">**You will only get credit for code that has been run!**.</span>\n",
    "\n",
    "The last point is extremely important and bears repeating:\n",
    "\n",
    "### We will not re-run your notebook -- <span style=\"color:red\">you will only get credit for cells that have been run</span>\n",
    "\n",
    "### File name\n",
    "Your Python program should be named **yourlastname_yourfirstname_P2.ipynb**, then zip it and upload to Canvas\n",
    "\n",
    "### Package usage\n",
    "You <span style=\"color:red\">**cannot**</span> use python machine learning package that can have the k-fold validation algorithm as embedded function, for instance, **sklearn** package."
   ]
  },
  {
   "cell_type": "markdown",
   "metadata": {},
   "source": [
    "# Project Description\n",
    "\n",
    "For Project 2 you will create a regression program and choose a model to predict the women’s Olympic 100-meter race record time for year **2024** and **2028**. We will code the year of each race as we did in lecture 2.3. \n",
    "\n",
    "![caption](https://nianyil.people.clemson.edu/CPSC_4430/P2.jpg)\n"
   ]
  },
  {
   "cell_type": "markdown",
   "metadata": {},
   "source": [
    "## Data File"
   ]
  },
  {
   "cell_type": "markdown",
   "metadata": {},
   "source": [
    "A text file with the data is available on Canvas for the years 1928 through 2008 when the Olympics were held. The first line of the text file indicating there’re **m** lines of data and a **n** number of features (in this case, one). You need to write a code to read data from the file. You **can** use packages, such as **panda**, to load the data."
   ]
  },
  {
   "cell_type": "code",
   "execution_count": 2,
   "metadata": {},
   "outputs": [
    {
     "name": "stdout",
     "output_type": "stream",
     "text": [
      "    Year   Time\n",
      "0   1928  12.20\n",
      "1   1932  11.90\n",
      "2   1936  11.50\n",
      "3   1948  11.90\n",
      "4   1952  11.50\n",
      "5   1956  11.50\n",
      "6   1960  11.00\n",
      "7   1964  11.40\n",
      "8   1968  11.00\n",
      "9   1972  11.07\n",
      "10  1976  11.08\n",
      "11  1980  11.06\n",
      "12  1984  10.97\n",
      "13  1988  10.54\n",
      "14  1992  10.82\n",
      "15  1996  10.94\n",
      "16  2000  11.12\n",
      "17  2004  10.93\n",
      "18  2008  10.78\n"
     ]
    }
   ],
   "source": [
    "##############################################################################\n",
    "#         TODO: Write the code for reading data from file                    #\n",
    "##############################################################################\n",
    "import pandas as pd\n",
    "# Reading the data from the text file\n",
    "file_path = 'W100MTimes.txt'\n",
    "data = pd.read_csv(file_path, sep=\"\\t\", header=None, skiprows=1, names=[\"Year\", \"Time\"])\n",
    "\n",
    "# Adjusting the year format (assuming 'Year' column starts at 1928 and increments by 4)\n",
    "data['Year'] = data['Year'] + 1900\n",
    "\n",
    "# Displaying the data\n",
    "print(data)\n",
    "##############################################################################\n",
    "#                              END OF YOUR CODE                              #\n",
    "##############################################################################"
   ]
  },
  {
   "cell_type": "markdown",
   "metadata": {},
   "source": [
    "## Pick the Best Model"
   ]
  },
  {
   "cell_type": "markdown",
   "metadata": {},
   "source": [
    "Your project assignment is to compare four different models, linear, quadratic, cubic, fourth, and fifth. \n",
    "\n",
    "- $h_w(x) = w_0 + w_1x$\n",
    "- $h_w(x) = w_0 + w_1x + w_2x^2$\n",
    "- $h_w(x) = w_0 + w_1x + w_2x^2 + w_3x^3$\n",
    "- $h_w(x) = w_0 + w_1x + w_2x^2 + w_3x^3 + w_4x^4$\n",
    "- $h_w(x) = w_0 + w_1x + w_2x^2 + w_3x^3 + w_4x^4 + w_5x^5$\n"
   ]
  },
  {
   "cell_type": "code",
   "execution_count": 3,
   "metadata": {},
   "outputs": [
    {
     "data": {
      "image/png": "[encoded data removed]",
      "text/plain": [
       "<Figure size 432x288 with 1 Axes>"
      ]
     },
     "metadata": {
      "needs_background": "light"
     },
     "output_type": "display_data"
    }
   ],
   "source": [
    "##############################################################################\n",
    "#                 TODO: Define the regression models                         #\n",
    "##############################################################################\n",
    "import numpy as np\n",
    "import matplotlib.pyplot as plt\n",
    "\n",
    "# Load the data (assuming data has already been read into a pandas DataFrame 'data')\n",
    "X = data['Year']\n",
    "y = data['Time']\n",
    "\n",
    "# Define a function to compute polynomial regression models and plot the results\n",
    "def plot_regression(degree, X, y):\n",
    "    # Fit the polynomial regression model of given degree\n",
    "    coefficients = np.polyfit(X, y, degree)\n",
    "    polynomial = np.poly1d(coefficients)\n",
    "    \n",
    "    # Predict using the model\n",
    "    y_pred = polynomial(X)\n",
    "    \n",
    "    # Plot the results\n",
    "    plt.plot(X, y_pred, label=f'Degree {degree}')\n",
    "\n",
    "# Plot the original data points\n",
    "plt.scatter(X, y, color='black', label='Original Data')\n",
    "\n",
    "##############################################################################\n",
    "#                 TODO: Define the regression models                         #\n",
    "##############################################################################\n",
    "# Linear regression (degree 1)\n",
    "plot_regression(1, X, y)\n",
    "\n",
    "# Quadratic regression (degree 2)\n",
    "plot_regression(2, X, y)\n",
    "\n",
    "# Cubic regression (degree 3)\n",
    "plot_regression(3, X, y)\n",
    "\n",
    "# Fourth-degree regression (degree 4)\n",
    "plot_regression(4, X, y)\n",
    "\n",
    "# Fifth-degree regression (degree 5)\n",
    "plot_regression(5, X, y)\n",
    "\n",
    "# Show the plot with legends and labels\n",
    "plt.xlabel('Year')\n",
    "plt.ylabel('100m Time (s)')\n",
    "plt.legend()\n",
    "plt.title('Comparison of Polynomial Regression Models')\n",
    "plt.show()\n",
    "##############################################################################\n",
    "#                              END OF YOUR CODE                              #\n",
    "##############################################################################"
   ]
  },
  {
   "cell_type": "markdown",
   "metadata": {},
   "source": [
    "Next, you need to use <span style=\"color:red\">**5-fold cross validation**</span> to pick out the best model for the prediction. You should present a chart of the error function $J$, similar to the one in the lecture (see below). You may need to use package like \"**tabulate**\" to print out the table.\n",
    "\n",
    "```\n",
    "                     Linear    Quadratic    Cubic    Fourth\n",
    "-----------------  --------  -----------  -------  --------\n",
    "1234                  10.25        24.25    12.25     23.25\n",
    "5                     10.25        19.25    14.25     23.25\n",
    "1235                  10.25        15.25    19.25     23.25\n",
    "4                     10.25        10.25    20.25     23.25\n",
    "1245                  10.25        24.25    12.25     23.25\n",
    "3                     10.25        19.25    14.25     23.25\n",
    "1345                  10.25        24.25    12.25     23.25\n",
    "2                     10.25        19.25    14.25     23.25\n",
    "2345                  10.25        24.25    12.25     23.25\n",
    "1                     10.25        19.25    14.25     23.25\n",
    "Mean for Training      0            0        0         0\n",
    "Mean for Testing       0            0        0         0\n",
    "```\n",
    "\n",
    "You need to **plot** your training and testing $J$ with respect to the polynomial degree, similar to the one in the lecture."
   ]
  },
  {
   "cell_type": "code",
   "execution_count": 4,
   "metadata": {},
   "outputs": [],
   "source": [
    "##############################################################################\n",
    "#                     TODO: 5-fold cross-validation                         #\n",
    "##############################################################################\n",
    "import numpy as np\n",
    "import pandas as pd\n",
    "from numpy.random import default_rng\n",
    "\n",
    "# Load the data (assuming it's already loaded in a DataFrame 'data')\n",
    "X = data['Year'].values\n",
    "y = data['Time'].values\n",
    "\n",
    "# Shuffle the data randomly (optional)\n",
    "rng = default_rng(42)  # Seed for reproducibility\n",
    "shuffled_indices = rng.permutation(len(X))\n",
    "\n",
    "X = X[shuffled_indices]\n",
    "y = y[shuffled_indices]\n",
    "\n",
    "# Split the data into 5 folds\n",
    "k = 5\n",
    "fold_size = len(X) // k\n",
    "folds_X = [X[i*fold_size:(i+1)*fold_size] for i in range(k)]\n",
    "folds_y = [y[i*fold_size:(i+1)*fold_size] for i in range(k)]\n",
    "\n",
    "# Function to compute MSE for a polynomial regression model of a given degree\n",
    "def compute_mse(degree, X_train, X_test, y_train, y_test):\n",
    "    coefficients = np.polyfit(X_train, y_train, degree)\n",
    "    polynomial = np.poly1d(coefficients)\n",
    "    \n",
    "    # Predict values\n",
    "    y_train_pred = polynomial(X_train)\n",
    "    y_test_pred = polynomial(X_test)\n",
    "    \n",
    "    # Calculate MSE\n",
    "    mse_train = np.mean((y_train - y_train_pred)**2)\n",
    "    mse_test = np.mean((y_test - y_test_pred)**2)\n",
    "    \n",
    "    return mse_train, mse_test\n",
    "\n",
    "# Store MSE results\n",
    "mse_train_results = {1: [], 2: [], 3: [], 4: [], 5: []}\n",
    "mse_test_results = {1: [], 2: [], 3: [], 4: [], 5: []}\n",
    "\n",
    "# Perform manual 5-fold cross-validation\n",
    "for fold in range(k):\n",
    "    # Use all other folds as training, and the current fold as testing\n",
    "    X_test = folds_X[fold]\n",
    "    y_test = folds_y[fold]\n",
    "    \n",
    "    X_train = np.concatenate([folds_X[i] for i in range(k) if i != fold])\n",
    "    y_train = np.concatenate([folds_y[i] for i in range(k) if i != fold])\n",
    "    \n",
    "    # Evaluate polynomial degrees 1 to 5\n",
    "    for degree in range(1, 6):\n",
    "        mse_train, mse_test = compute_mse(degree, X_train, X_test, y_train, y_test)\n",
    "        mse_train_results[degree].append(mse_train)\n",
    "        mse_test_results[degree].append(mse_test)\n",
    "\n",
    "##############################################################################\n",
    "#                              END OF YOUR CODE                              #\n",
    "##############################################################################"
   ]
  },
  {
   "cell_type": "code",
   "execution_count": 8,
   "metadata": {},
   "outputs": [
    {
     "name": "stdout",
     "output_type": "stream",
     "text": [
      "Fold      Linear    Quadratic      Cubic     Fourth    Fifth     \n",
      "------------------------------------------------------------\n",
      "1         0.0248    0.0087         0.0099    0.0102    0.0088    \n",
      "2         0.0057    0.0098         0.0098    0.0102    0.0152    \n",
      "3         0.0909    0.0782         0.0782    0.1854    0.1309    \n",
      "4         0.0784    0.0427         0.1513    0.5332    1.9645    \n",
      "5         0.0434    0.0841         0.0897    0.1567    0.2595    \n",
      "\n",
      "Mean for Training MSE: 0.0344, 0.0262, 0.0254, 0.0221, 0.0179\n",
      "Mean for Testing MSE: 0.0486, 0.0447, 0.0678, 0.1792, 0.4758\n"
     ]
    }
   ],
   "source": [
    "##############################################################################\n",
    "#                     TODO: Print out the table chart                       #\n",
    "##############################################################################\n",
    "# Create the table manually and print without using tabulate\n",
    "print(f\"{'Fold':<10}{'Linear':<10}{'Quadratic':<15}{'Cubic':<10}{'Fourth':<10}{'Fifth':<10}\")\n",
    "print(\"-\" * 60)\n",
    "\n",
    "# Print each fold's results\n",
    "for fold in range(k):\n",
    "    print(f\"{fold + 1:<10}{mse_test_results[1][fold]:<10.4f}{mse_test_results[2][fold]:<15.4f}{mse_test_results[3][fold]:<10.4f}{mse_test_results[4][fold]:<10.4f}{mse_test_results[5][fold]:<10.4f}\")\n",
    "\n",
    "# Print the mean values\n",
    "mean_train_mse = [np.mean(mse_train_results[d]) for d in range(1, 6)]\n",
    "mean_test_mse = [np.mean(mse_test_results[d]) for d in range(1, 6)]\n",
    "\n",
    "print(\"\\nMean for Training MSE:\", \", \".join(f\"{m:.4f}\" for m in mean_train_mse))\n",
    "print(\"Mean for Testing MSE:\", \", \".join(f\"{m:.4f}\" for m in mean_test_mse))\n",
    "\n",
    "\n",
    "##############################################################################\n",
    "#                              END OF YOUR CODE                              #\n",
    "##############################################################################"
   ]
  },
  {
   "cell_type": "code",
   "execution_count": 9,
   "metadata": {},
   "outputs": [
    {
     "data": {
      "image/png": "[encoded data removed]",
      "text/plain": [
       "<Figure size 432x288 with 1 Axes>"
      ]
     },
     "metadata": {
      "needs_background": "light"
     },
     "output_type": "display_data"
    }
   ],
   "source": [
    "##############################################################################\n",
    "#                     TODO: Plot the J curve                                 #\n",
    "##############################################################################\n",
    "import matplotlib.pyplot as plt\n",
    "\n",
    "# Plot the error function J for training and testing data\n",
    "degrees = [1, 2, 3, 4, 5]\n",
    "\n",
    "plt.plot(degrees, mean_train_mse, label=\"Training MSE\", marker='o')\n",
    "plt.plot(degrees, mean_test_mse, label=\"Testing MSE\", marker='o')\n",
    "\n",
    "# Label the plot\n",
    "plt.xlabel(\"Polynomial Degree\")\n",
    "plt.ylabel(\"Mean Squared Error\")\n",
    "plt.title(\"Training and Testing Error (J) vs Polynomial Degree\")\n",
    "plt.legend()\n",
    "plt.grid(True)\n",
    "plt.show()\n",
    "\n",
    "##############################################################################\n",
    "#                              END OF YOUR CODE                              #\n",
    "##############################################################################"
   ]
  },
  {
   "cell_type": "markdown",
   "metadata": {},
   "source": [
    "Based on your data and plot, you should then briefly discuss **which model is the best** for the record time prediction.\n",
    "\n",
    "**Your Answer:**  "
   ]
  },
  {
   "cell_type": "markdown",
   "metadata": {},
   "source": [
    "Next, compute the final weights of the best model utilizing the **complete data set**"
   ]
  },
  {
   "cell_type": "code",
   "execution_count": null,
   "metadata": {},
   "outputs": [],
   "source": [
    "##############################################################################\n",
    "#              TODO: Calculate the final regression model                    #\n",
    "##############################################################################\n",
    "pass\n",
    "##############################################################################\n",
    "#                              END OF YOUR CODE                              #\n",
    "##############################################################################"
   ]
  },
  {
   "cell_type": "markdown",
   "metadata": {},
   "source": [
    "## Prediction Using the Best Model"
   ]
  },
  {
   "cell_type": "markdown",
   "metadata": {},
   "source": [
    "Write a Python program that takes a **year** as input, then outputs the winning women’s Olympic 100-meter **race time** for that year (round to two decimal places). You need to try and print out the results of **2024** and **2028**."
   ]
  },
  {
   "cell_type": "code",
   "execution_count": 10,
   "metadata": {},
   "outputs": [
    {
     "name": "stdout",
     "output_type": "stream",
     "text": [
      "Predicted race time for 2024: 10.94 seconds\n",
      "Predicted race time for 2028: 10.98 seconds\n"
     ]
    }
   ],
   "source": [
    "##############################################################################\n",
    "#         TODO: Predict the race time using the best model                   #\n",
    "##############################################################################\n",
    "import numpy as np\n",
    "\n",
    "# Assuming the best model is degree 2 (you can change this depending on your cross-validation results)\n",
    "best_degree = 2\n",
    "\n",
    "# Fit the model to the entire dataset using the best degree\n",
    "coefficients = np.polyfit(X, y, best_degree)\n",
    "polynomial = np.poly1d(coefficients)\n",
    "\n",
    "# Function to predict the race time for a given year\n",
    "def predict_race_time(year):\n",
    "    # Predict the race time using the polynomial model\n",
    "    race_time = polynomial(year)\n",
    "    # Round to two decimal places\n",
    "    return round(race_time, 2)\n",
    "\n",
    "# Predict the race times for 2024 and 2028\n",
    "race_time_2024 = predict_race_time(2024)\n",
    "race_time_2028 = predict_race_time(2028)\n",
    "\n",
    "print(f\"Predicted race time for 2024: {race_time_2024} seconds\")\n",
    "print(f\"Predicted race time for 2028: {race_time_2028} seconds\")\n",
    "\n",
    "##############################################################################\n",
    "#                              END OF YOUR CODE                              #\n",
    "##############################################################################"
   ]
  },
  {
   "cell_type": "markdown",
   "metadata": {},
   "source": [
    "## Prediction Error on 2024"
   ]
  },
  {
   "cell_type": "markdown",
   "metadata": {},
   "source": [
    "What is the acture of women's 100m final in 2024 Olympics?"
   ]
  },
  {
   "cell_type": "markdown",
   "metadata": {},
   "source": [
    "Your answer:"
   ]
  },
  {
   "cell_type": "code",
   "execution_count": null,
   "metadata": {},
   "outputs": [],
   "source": []
  },
  {
   "cell_type": "markdown",
   "metadata": {},
   "source": [
    "What is the Prediction Error of year 2024?"
   ]
  },
  {
   "cell_type": "markdown",
   "metadata": {},
   "source": [
    "Your answer:"
   ]
  },
  {
   "cell_type": "code",
   "execution_count": null,
   "metadata": {},
   "outputs": [],
   "source": []
  }
 ],
 "metadata": {
  "kernelspec": {
   "display_name": "Python 3",
   "language": "python",
   "name": "python3"
  },
  "language_info": {
   "codemirror_mode": {
    "name": "ipython",
    "version": 3
   },
   "file_extension": ".py",
   "mimetype": "text/x-python",
   "name": "python",
   "nbconvert_exporter": "python",
   "pygments_lexer": "ipython3",
   "version": "3.8.8"
  }
 },
 "nbformat": 4,
 "nbformat_minor": 2
}
